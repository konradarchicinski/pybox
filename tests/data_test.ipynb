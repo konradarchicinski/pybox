{
 "metadata": {
  "language_info": {
   "codemirror_mode": {
    "name": "ipython",
    "version": 3
   },
   "file_extension": ".py",
   "mimetype": "text/x-python",
   "name": "python",
   "nbconvert_exporter": "python",
   "pygments_lexer": "ipython3",
   "version": "3.8.5-final"
  },
  "orig_nbformat": 2,
  "kernelspec": {
   "name": "python38564bitquantviewcondabb7df7aa472747c1857fe0ceab001926",
   "display_name": "Python 3.8.5 64-bit ('QuantView': conda)"
  }
 },
 "nbformat": 4,
 "nbformat_minor": 2,
 "cells": [
  {
   "cell_type": "code",
   "execution_count": 1,
   "metadata": {},
   "outputs": [],
   "source": [
    "from tabulate import tabulate\n",
    "from itertools import zip_longest\n",
    "import numpy as np\n",
    "\n",
    "\n",
    "class Table:\n",
    "    __slots__ = [\"data\"] \n",
    "\n",
    "    def __init__(self, data=None, types=None):\n",
    "        if data:\n",
    "            self.data = np.array(list(zip_longest(*data.values())), dtype=types)\n",
    "        else:\n",
    "            self.data = np.array([])\n",
    "\n",
    "    @property\n",
    "    def data_types(self):\n",
    "        return self.data.dtype.descr\n",
    "\n",
    "    @property\n",
    "    def length(self):\n",
    "        return len(self.data)\n",
    "\n",
    "    @property\n",
    "    def width(self):\n",
    "        return len(self.data_types)\n",
    "\n",
    "    @property\n",
    "    def names(self):\n",
    "        return list(self.data.dtype.names)\n",
    "\n",
    "    @property\n",
    "    def rows_range(self):\n",
    "        return range(self.length)\n",
    "\n",
    "    def __getitem__(self, selector):\n",
    "        if type(selector) is tuple:\n",
    "            #TODO write code for handling slices, itnegers strings and more.\n",
    "            name, index = selector\n",
    "            return self.data[name][index]\n",
    "        elif type(selector) is str:\n",
    "            return self.data[selector]\n",
    "\n",
    "    def __setitem__(self, selector, value):\n",
    "        if type(selector) is tuple:\n",
    "            #TODO write code for handling slices, itnegers strings and more.\n",
    "            name, index = selector\n",
    "            if name not in self.names:\n",
    "                self.new_column(name)\n",
    "            self.data[name][index] = value\n",
    "        elif type(selector) is str:\n",
    "            if selector not in self.names:\n",
    "                self.new_column(selector)\n",
    "            value = self.value_to_list(value)\n",
    "            self.align_length(value)\n",
    "            self.data[selector] = value\n",
    "\n",
    "    def value_to_list(self, value):\n",
    "        if type(value) is not list:\n",
    "            value = [value]\n",
    "        return value\n",
    "\n",
    "    def align_length(self, value):\n",
    "        length_difference = len(value) - self.length\n",
    "        if length_difference > 0:\n",
    "            for _ in range(1, length_difference + 1):\n",
    "                self.data.resize(self.length + 1)\n",
    "                self.data[-1] = tuple([None] * self.width)\n",
    "\n",
    "    def new_column(self, name, data_type=\"O\"):\n",
    "        arrays_list = [list(self.data[name]) for name in self.names]\n",
    "        arrays_list.append([None] * self.length)\n",
    "        types = self.data_types + [(name, data_type)]\n",
    "        \n",
    "        self.data = np.array(list(zip_longest(*arrays_list)), dtype=types)\n",
    "    \n",
    "    def __str__(self):\n",
    "        return tabulate(\n",
    "            self.data, headers=\"keys\", showindex=\"always\", tablefmt=\"github\", disable_numparse=True\n",
    "        )\n"
   ]
  },
  {
   "cell_type": "code",
   "execution_count": 2,
   "metadata": {},
   "outputs": [],
   "source": [
    "data = {\n",
    "    \"ColA\": [1,2,3,4], \"ColB\": [1], \"ColC\": [4,2,7,1],\n",
    "    \"ColD\": [8,3], \"ColE\": [1,4,3,1,1,1], \"ColF\": [3,2,4,2]\n",
    "}\n",
    "types = [\n",
    "    (\"ColA\", \"O\"), (\"ColB\", \"O\"), (\"ColC\", \"O\"), (\"ColD\", \"O\"), (\"ColE\", \"O\"), (\"ColF\", \"O\")\n",
    "]"
   ]
  },
  {
   "cell_type": "code",
   "execution_count": 3,
   "metadata": {},
   "outputs": [],
   "source": [
    "table = Table(data, types)"
   ]
  },
  {
   "cell_type": "code",
   "execution_count": 10,
   "metadata": {
    "tags": []
   },
   "outputs": [
    {
     "output_type": "stream",
     "name": "stdout",
     "text": "|    | ColA   | ColB   | ColC   | ColD   | ColE   | ColF   | ColG   | ColH   | ColI   |\n|----|--------|--------|--------|--------|--------|--------|--------|--------|--------|\n| 0  | 1      | 1      | 4      | 8      | 1      | 3      |        | 2.0    | a      |\n| 1  | 2      |        | 2      | 3      | 4      | 2      |        | 2.0    | b      |\n| 2  | 3      |        | 7      |        | 3      | 4      |        | 3.5    | c      |\n| 3  | 4      |        | 1      |        | 1      | 2      |        | 3.0    | d      |\n| 4  |        |        |        |        | 1      |        | False  |        | e      |\n| 5  |        |        |        |        | 1      |        |        |        | f      |\n| 6  |        |        |        |        |        |        |        |        | g      |\n"
    }
   ],
   "source": [
    "print(table)"
   ]
  },
  {
   "cell_type": "code",
   "execution_count": 5,
   "metadata": {
    "tags": []
   },
   "outputs": [],
   "source": [
    "table[\"ColG\", 4] = False"
   ]
  },
  {
   "cell_type": "code",
   "execution_count": 7,
   "metadata": {},
   "outputs": [],
   "source": [
    "for idx in table.rows_range:\n",
    "    if table[\"ColA\", idx] and table[\"ColF\", idx]:\n",
    "        table[\"ColH\", idx] = (table[\"ColA\", idx] + table[\"ColF\", idx]) / 2"
   ]
  },
  {
   "cell_type": "code",
   "execution_count": 9,
   "metadata": {
    "tags": []
   },
   "outputs": [],
   "source": [
    "table[\"ColI\"] = [\"a\", \"b\", \"c\", \"d\", \"e\", \"f\", \"g\"]"
   ]
  },
  {
   "cell_type": "code",
   "execution_count": null,
   "metadata": {},
   "outputs": [],
   "source": []
  }
 ]
}