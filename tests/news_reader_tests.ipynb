{
 "metadata": {
  "language_info": {
   "codemirror_mode": {
    "name": "ipython",
    "version": 3
   },
   "file_extension": ".py",
   "mimetype": "text/x-python",
   "name": "python",
   "nbconvert_exporter": "python",
   "pygments_lexer": "ipython3",
   "version": "3.8.5-final"
  },
  "orig_nbformat": 2,
  "kernelspec": {
   "name": "Python 3.8.5 64-bit ('PyBox': conda)",
   "display_name": "Python 3.8.5 64-bit ('PyBox': conda)",
   "metadata": {
    "interpreter": {
     "hash": "c1a5da4ca35d3cb3932b3c104e9f8344b77033ff7166c565cdd66713a6c2079e"
    }
   }
  }
 },
 "nbformat": 4,
 "nbformat_minor": 2,
 "cells": [
  {
   "cell_type": "code",
   "execution_count": 1,
   "metadata": {},
   "outputs": [],
   "source": [
    "import datetime\n",
    "import os\n",
    "os.chdir(\"C:\\\\PyBox\\\\\")\n",
    "\n",
    "import pybox as pb"
   ]
  },
  {
   "cell_type": "code",
   "execution_count": 2,
   "metadata": {},
   "outputs": [],
   "source": [
    "reuters = pb.NewsReader.initiate(\"Reuters\", {\"start_date\": datetime.datetime.today()})"
   ]
  },
  {
   "cell_type": "code",
   "execution_count": 3,
   "metadata": {},
   "outputs": [],
   "source": [
    "reuters.read_news_headlines\n",
    "reuters.driver.close()"
   ]
  },
  {
   "cell_type": "code",
   "execution_count": null,
   "metadata": {},
   "outputs": [],
   "source": [
    "reuters.news_data.display()"
   ]
  }
 ]
}