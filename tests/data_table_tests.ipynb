{
 "metadata": {
  "language_info": {
   "codemirror_mode": {
    "name": "ipython",
    "version": 3
   },
   "file_extension": ".py",
   "mimetype": "text/x-python",
   "name": "python",
   "nbconvert_exporter": "python",
   "pygments_lexer": "ipython3",
   "version": "3.8.5-final"
  },
  "orig_nbformat": 2,
  "kernelspec": {
   "name": "Python 3.8.5 64-bit ('AnalyticsPy': conda)",
   "display_name": "Python 3.8.5 64-bit ('AnalyticsPy': conda)",
   "metadata": {
    "interpreter": {
     "hash": "f41bcc7db5b859579186fec69015497d86c691c1c770299b28c4174469a5c3d4"
    }
   }
  }
 },
 "nbformat": 4,
 "nbformat_minor": 2,
 "cells": [
  {
   "cell_type": "code",
   "execution_count": 1,
   "metadata": {},
   "outputs": [],
   "source": [
    "import datetime\n",
    "import string\n",
    "import random\n",
    "import os\n",
    "os.chdir(\"C:\\\\AnalyticsPy\\\\\")\n",
    "\n",
    "from analyticspy.tools.data_table import DataTable"
   ]
  },
  {
   "cell_type": "code",
   "execution_count": 2,
   "metadata": {},
   "outputs": [
    {
     "output_type": "display_data",
     "data": {
      "text/plain": "<IPython.core.display.HTML object>",
      "text/html": "<table>\n<tr>\n<th><br></br><br></br>Index</th>\n<th><b><u>Integers</u></b><br>DataType:int</br></th>\n<th><b><u>Strings</u></b><br>DataType:str</br></th>\n<th><b><u>Booleans</u></b><br>DataType:bool</br></th>\n</tr>\n<tr>\n<td>0</td>\n<td>79</td>\n<td>X0ZIT</td>\n<td>False</td>\n</tr>\n<tr>\n<td>1</td>\n<td>86</td>\n<td>CTDZ5</td>\n<td>True</td>\n</tr>\n<tr>\n<td>2</td>\n<td>68</td>\n<td>IQAP7</td>\n<td>True</td>\n</tr>\n<tr>\n<td>3</td>\n<td>43</td>\n<td>D1WZK</td>\n<td>False</td>\n</tr>\n<tr>\n<td>4</td>\n<td>54</td>\n<td>RRDPP</td>\n<td>False</td>\n</tr>\n<tr>\n<td>...</td>\n<td>...</td>\n<td>...</td>\n<td>...</td>\n</tr>\n<tr>\n<td>995</td>\n<td>93</td>\n<td>FLSLU</td>\n<td>True</td>\n</tr>\n<tr>\n<td>996</td>\n<td>17</td>\n<td>DLS5O</td>\n<td>True</td>\n</tr>\n<tr>\n<td>997</td>\n<td>70</td>\n<td>D8HS7</td>\n<td>False</td>\n</tr>\n<tr>\n<td>998</td>\n<td>28</td>\n<td>9OO9N</td>\n<td>True</td>\n</tr>\n<tr>\n<td>999</td>\n<td>95</td>\n<td>0AWHI</td>\n<td>False</td>\n</tr>\n</table>"
     },
     "metadata": {}
    }
   ],
   "source": [
    "table_len = 1000\n",
    "\n",
    "table = DataTable({\n",
    "    \"Integers\": [random.randint(10,99) for _ in range(table_len)],\n",
    "    \"Strings\": [''.join(random.choices(string.ascii_uppercase + string.digits, k=5)) for _ in range(table_len)],\n",
    "    \"Booleans\": [bool(random.getrandbits(1)) for _ in range(table_len)]\n",
    "})\n",
    "table.display()"
   ]
  },
  {
   "cell_type": "code",
   "execution_count": 3,
   "metadata": {
    "tags": []
   },
   "outputs": [
    {
     "output_type": "display_data",
     "data": {
      "text/plain": "<IPython.core.display.HTML object>",
      "text/html": "<table>\n<tr>\n<th><br></br><br></br>Index</th>\n<th><b><u>Dates</u></b><br>DataType:date</br></th>\n<th><b><u>Integers</u></b><br>DataType:int</br></th>\n<th><b><u>Strings</u></b><br>DataType:str</br></th>\n<th><b><u>Booleans</u></b><br>DataType:bool</br></th>\n<th><b><u>Floats</u></b><br>DataType:float</br></th>\n<th><b><u>Multiplication</u></b><br>DataType:float</br></th>\n</tr>\n<tr>\n<td>0</td>\n<td>2020-09-26</td>\n<td>79</td>\n<td>X0ZIT</td>\n<td>False</td>\n<td>0.10238912196767758</td>\n<td>8.088740635446529</td>\n</tr>\n<tr>\n<td>1</td>\n<td>2020-09-25</td>\n<td>86</td>\n<td>CTDZ5</td>\n<td>True</td>\n<td>0.9479238857805974</td>\n<td>81.52145417713137</td>\n</tr>\n<tr>\n<td>2</td>\n<td>2020-09-24</td>\n<td>68</td>\n<td>IQAP7</td>\n<td>True</td>\n<td>0.9054264789203592</td>\n<td>61.56900056658443</td>\n</tr>\n<tr>\n<td>3</td>\n<td>2020-09-23</td>\n<td>43</td>\n<td>D1WZK</td>\n<td>False</td>\n<td>0.104563314308173</td>\n<td>4.496222515251439</td>\n</tr>\n<tr>\n<td>4</td>\n<td>2020-09-22</td>\n<td>54</td>\n<td>RRDPP</td>\n<td>False</td>\n<td>0.21783290727597293</td>\n<td>11.762976992902539</td>\n</tr>\n<tr>\n<td>...</td>\n<td>...</td>\n<td>...</td>\n<td>...</td>\n<td>...</td>\n<td>...</td>\n<td>...</td>\n</tr>\n<tr>\n<td>995</td>\n<td>2018-01-05</td>\n<td>93</td>\n<td>FLSLU</td>\n<td>True</td>\n<td>0.1440500793651298</td>\n<td>13.396657380957073</td>\n</tr>\n<tr>\n<td>996</td>\n<td>2018-01-04</td>\n<td>17</td>\n<td>DLS5O</td>\n<td>True</td>\n<td>0.8127992997407573</td>\n<td>13.817588095592873</td>\n</tr>\n<tr>\n<td>997</td>\n<td>2018-01-03</td>\n<td>70</td>\n<td>D8HS7</td>\n<td>False</td>\n<td>0.9110273320740714</td>\n<td>63.771913245185</td>\n</tr>\n<tr>\n<td>998</td>\n<td>2018-01-02</td>\n<td>28</td>\n<td>9OO9N</td>\n<td>True</td>\n<td>0.08810802980370314</td>\n<td>2.467024834503688</td>\n</tr>\n<tr>\n<td>999</td>\n<td>2018-01-01</td>\n<td>95</td>\n<td>0AWHI</td>\n<td>False</td>\n<td>0.5135152044391742</td>\n<td>48.78394442172155</td>\n</tr>\n</table>"
     },
     "metadata": {}
    }
   ],
   "source": [
    "table.insert_column(\"Floats\", [random.random() for _ in range(table_len)])\n",
    "\n",
    "for row in table:\n",
    "    row[\"Multiplication\"] = row[\"Integers\"] * row[\"Floats\"]\n",
    "\n",
    "table.insert_column(\n",
    "    \"Dates\",\n",
    "    [datetime.date.today() - datetime.timedelta(days=i) for i in range(table_len)],\n",
    "    column_index=0)\n",
    "\n",
    "table.display()"
   ]
  },
  {
   "cell_type": "code",
   "execution_count": 4,
   "metadata": {},
   "outputs": [
    {
     "output_type": "execute_result",
     "data": {
      "text/plain": "[['Dates', datetime.date],\n ['Integers', int],\n ['Strings', str],\n ['Booleans', bool],\n ['Floats', float],\n ['Multiplication', float]]"
     },
     "metadata": {},
     "execution_count": 4
    }
   ],
   "source": [
    "table._data_map"
   ]
  },
  {
   "cell_type": "code",
   "execution_count": 5,
   "metadata": {},
   "outputs": [
    {
     "output_type": "display_data",
     "data": {
      "text/plain": "<IPython.core.display.HTML object>",
      "text/html": "<table>\n<tr>\n<th><br></br><br></br>Index</th>\n<th><b><u>Dates</u></b><br>DataType:date</br></th>\n<th><b><u>Integers</u></b><br>DataType:int</br></th>\n<th><b><u>Strings</u></b><br>DataType:str</br></th>\n<th><b><u>Booleans</u></b><br>DataType:bool</br></th>\n<th><b><u>BooleansFalse</u></b><br>DataType:int</br></th>\n<th><b><u>BooleansTrue</u></b><br>DataType:int</br></th>\n<th><b><u>Floats</u></b><br>DataType:float</br></th>\n<th><b><u>Multiplication</u></b><br>DataType:float</br></th>\n</tr>\n<tr>\n<td>0</td>\n<td>2020-09-26</td>\n<td>79</td>\n<td>X0ZIT</td>\n<td>False</td>\n<td>1</td>\n<td>0</td>\n<td>0.10238912196767758</td>\n<td>8.088740635446529</td>\n</tr>\n<tr>\n<td>1</td>\n<td>2020-09-25</td>\n<td>86</td>\n<td>CTDZ5</td>\n<td>True</td>\n<td>0</td>\n<td>1</td>\n<td>0.9479238857805974</td>\n<td>81.52145417713137</td>\n</tr>\n<tr>\n<td>2</td>\n<td>2020-09-24</td>\n<td>68</td>\n<td>IQAP7</td>\n<td>True</td>\n<td>0</td>\n<td>1</td>\n<td>0.9054264789203592</td>\n<td>61.56900056658443</td>\n</tr>\n<tr>\n<td>3</td>\n<td>2020-09-23</td>\n<td>43</td>\n<td>D1WZK</td>\n<td>False</td>\n<td>1</td>\n<td>0</td>\n<td>0.104563314308173</td>\n<td>4.496222515251439</td>\n</tr>\n<tr>\n<td>4</td>\n<td>2020-09-22</td>\n<td>54</td>\n<td>RRDPP</td>\n<td>False</td>\n<td>1</td>\n<td>0</td>\n<td>0.21783290727597293</td>\n<td>11.762976992902539</td>\n</tr>\n<tr>\n<td>...</td>\n<td>...</td>\n<td>...</td>\n<td>...</td>\n<td>...</td>\n<td>...</td>\n<td>...</td>\n<td>...</td>\n<td>...</td>\n</tr>\n<tr>\n<td>995</td>\n<td>2018-01-05</td>\n<td>93</td>\n<td>FLSLU</td>\n<td>True</td>\n<td>0</td>\n<td>1</td>\n<td>0.1440500793651298</td>\n<td>13.396657380957073</td>\n</tr>\n<tr>\n<td>996</td>\n<td>2018-01-04</td>\n<td>17</td>\n<td>DLS5O</td>\n<td>True</td>\n<td>0</td>\n<td>1</td>\n<td>0.8127992997407573</td>\n<td>13.817588095592873</td>\n</tr>\n<tr>\n<td>997</td>\n<td>2018-01-03</td>\n<td>70</td>\n<td>D8HS7</td>\n<td>False</td>\n<td>1</td>\n<td>0</td>\n<td>0.9110273320740714</td>\n<td>63.771913245185</td>\n</tr>\n<tr>\n<td>998</td>\n<td>2018-01-02</td>\n<td>28</td>\n<td>9OO9N</td>\n<td>True</td>\n<td>0</td>\n<td>1</td>\n<td>0.08810802980370314</td>\n<td>2.467024834503688</td>\n</tr>\n<tr>\n<td>999</td>\n<td>2018-01-01</td>\n<td>95</td>\n<td>0AWHI</td>\n<td>False</td>\n<td>1</td>\n<td>0</td>\n<td>0.5135152044391742</td>\n<td>48.78394442172155</td>\n</tr>\n</table>"
     },
     "metadata": {}
    }
   ],
   "source": [
    "table.create_dummies(\"Booleans\", False)\n",
    "table.display()"
   ]
  },
  {
   "cell_type": "code",
   "execution_count": 6,
   "metadata": {
    "tags": []
   },
   "outputs": [
    {
     "output_type": "stream",
     "name": "stdout",
     "text": "DataTable(shape=8x1000,bytesize=300401)\nDates: date\nIntegers: int\nStrings: str\nBooleans: bool\nBooleansFalse: int\nBooleansTrue: int\nFloats: float\nMultiplication: float\n"
    }
   ],
   "source": [
    "print(table)"
   ]
  },
  {
   "cell_type": "code",
   "execution_count": 7,
   "metadata": {},
   "outputs": [],
   "source": [
    "import analyticspy.tools.data_flow as atdf\n",
    "from analyticspy import APP_PATH\n",
    "\n",
    "atdf.table_to_parquet(table, \"TestDataTable\", APP_PATH + \"\\\\tests\\\\\")"
   ]
  },
  {
   "cell_type": "code",
   "execution_count": 8,
   "metadata": {},
   "outputs": [
    {
     "output_type": "display_data",
     "data": {
      "text/plain": "<IPython.core.display.HTML object>",
      "text/html": "<table>\n<tr>\n<th><br></br><br></br>Index</th>\n<th><b><u>Dates</u></b><br>DataType:date</br></th>\n<th><b><u>Integers</u></b><br>DataType:int</br></th>\n<th><b><u>Strings</u></b><br>DataType:str</br></th>\n<th><b><u>Booleans</u></b><br>DataType:bool</br></th>\n<th><b><u>BooleansFalse</u></b><br>DataType:int</br></th>\n<th><b><u>BooleansTrue</u></b><br>DataType:int</br></th>\n<th><b><u>Floats</u></b><br>DataType:float</br></th>\n<th><b><u>Multiplication</u></b><br>DataType:float</br></th>\n</tr>\n<tr>\n<td>0</td>\n<td>2020-09-26</td>\n<td>79</td>\n<td>X0ZIT</td>\n<td>False</td>\n<td>1</td>\n<td>0</td>\n<td>0.10238912196767758</td>\n<td>8.088740635446529</td>\n</tr>\n<tr>\n<td>1</td>\n<td>2020-09-25</td>\n<td>86</td>\n<td>CTDZ5</td>\n<td>True</td>\n<td>0</td>\n<td>1</td>\n<td>0.9479238857805974</td>\n<td>81.52145417713137</td>\n</tr>\n<tr>\n<td>2</td>\n<td>2020-09-24</td>\n<td>68</td>\n<td>IQAP7</td>\n<td>True</td>\n<td>0</td>\n<td>1</td>\n<td>0.9054264789203592</td>\n<td>61.56900056658443</td>\n</tr>\n<tr>\n<td>3</td>\n<td>2020-09-23</td>\n<td>43</td>\n<td>D1WZK</td>\n<td>False</td>\n<td>1</td>\n<td>0</td>\n<td>0.104563314308173</td>\n<td>4.496222515251439</td>\n</tr>\n<tr>\n<td>4</td>\n<td>2020-09-22</td>\n<td>54</td>\n<td>RRDPP</td>\n<td>False</td>\n<td>1</td>\n<td>0</td>\n<td>0.21783290727597293</td>\n<td>11.762976992902539</td>\n</tr>\n<tr>\n<td>...</td>\n<td>...</td>\n<td>...</td>\n<td>...</td>\n<td>...</td>\n<td>...</td>\n<td>...</td>\n<td>...</td>\n<td>...</td>\n</tr>\n<tr>\n<td>995</td>\n<td>2018-01-05</td>\n<td>93</td>\n<td>FLSLU</td>\n<td>True</td>\n<td>0</td>\n<td>1</td>\n<td>0.1440500793651298</td>\n<td>13.396657380957073</td>\n</tr>\n<tr>\n<td>996</td>\n<td>2018-01-04</td>\n<td>17</td>\n<td>DLS5O</td>\n<td>True</td>\n<td>0</td>\n<td>1</td>\n<td>0.8127992997407573</td>\n<td>13.817588095592873</td>\n</tr>\n<tr>\n<td>997</td>\n<td>2018-01-03</td>\n<td>70</td>\n<td>D8HS7</td>\n<td>False</td>\n<td>1</td>\n<td>0</td>\n<td>0.9110273320740714</td>\n<td>63.771913245185</td>\n</tr>\n<tr>\n<td>998</td>\n<td>2018-01-02</td>\n<td>28</td>\n<td>9OO9N</td>\n<td>True</td>\n<td>0</td>\n<td>1</td>\n<td>0.08810802980370314</td>\n<td>2.467024834503688</td>\n</tr>\n<tr>\n<td>999</td>\n<td>2018-01-01</td>\n<td>95</td>\n<td>0AWHI</td>\n<td>False</td>\n<td>1</td>\n<td>0</td>\n<td>0.5135152044391742</td>\n<td>48.78394442172155</td>\n</tr>\n</table>"
     },
     "metadata": {}
    }
   ],
   "source": [
    "table = atdf.table_from_parquet(\"TestDataTable\", APP_PATH + \"\\\\tests\\\\\")\n",
    "table.display()"
   ]
  },
  {
   "cell_type": "code",
   "execution_count": 9,
   "metadata": {},
   "outputs": [
    {
     "output_type": "display_data",
     "data": {
      "text/plain": "<IPython.core.display.HTML object>",
      "text/html": "<table>\n<tr>\n<th><br></br><br></br>Index</th>\n<th><b><u>Dates</u></b><br>DataType:date</br></th>\n<th><b><u>Integers</u></b><br>DataType:int</br></th>\n<th><b><u>Strings</u></b><br>DataType:str</br></th>\n<th><b><u>Booleans</u></b><br>DataType:bool</br></th>\n<th><b><u>BooleansFalse</u></b><br>DataType:int</br></th>\n<th><b><u>BooleansTrue</u></b><br>DataType:int</br></th>\n<th><b><u>Floats</u></b><br>DataType:float</br></th>\n<th><b><u>Multiplication</u></b><br>DataType:float</br></th>\n</tr>\n<tr>\n<td>0</td>\n<td>2020-09-26</td>\n<td>79</td>\n<td>X0ZIT</td>\n<td>False</td>\n<td>1</td>\n<td>0</td>\n<td>0.10238912196767758</td>\n<td>8.088740635446529</td>\n</tr>\n<tr>\n<td>1</td>\n<td>2020-09-25</td>\n<td>86</td>\n<td>CTDZ5</td>\n<td>True</td>\n<td>0</td>\n<td>1</td>\n<td>0.9479238857805974</td>\n<td>81.52145417713137</td>\n</tr>\n<tr>\n<td>2</td>\n<td>2020-09-24</td>\n<td>68</td>\n<td>IQAP7</td>\n<td>True</td>\n<td>0</td>\n<td>1</td>\n<td>0.9054264789203592</td>\n<td>61.56900056658443</td>\n</tr>\n<tr>\n<td>3</td>\n<td>2020-09-22</td>\n<td>54</td>\n<td>RRDPP</td>\n<td>False</td>\n<td>1</td>\n<td>0</td>\n<td>0.21783290727597293</td>\n<td>11.762976992902539</td>\n</tr>\n<tr>\n<td>4</td>\n<td>2020-09-21</td>\n<td>99</td>\n<td>6LUCK</td>\n<td>True</td>\n<td>0</td>\n<td>1</td>\n<td>0.8289826194291213</td>\n<td>82.06927932348302</td>\n</tr>\n<tr>\n<td>...</td>\n<td>...</td>\n<td>...</td>\n<td>...</td>\n<td>...</td>\n<td>...</td>\n<td>...</td>\n<td>...</td>\n<td>...</td>\n</tr>\n<tr>\n<td>529</td>\n<td>2018-01-07</td>\n<td>94</td>\n<td>WQTNA</td>\n<td>True</td>\n<td>0</td>\n<td>1</td>\n<td>0.7111291276118065</td>\n<td>66.8461379955098</td>\n</tr>\n<tr>\n<td>530</td>\n<td>2018-01-06</td>\n<td>55</td>\n<td>2JT6N</td>\n<td>True</td>\n<td>0</td>\n<td>1</td>\n<td>0.08374868426417881</td>\n<td>4.606177634529835</td>\n</tr>\n<tr>\n<td>531</td>\n<td>2018-01-05</td>\n<td>93</td>\n<td>FLSLU</td>\n<td>True</td>\n<td>0</td>\n<td>1</td>\n<td>0.1440500793651298</td>\n<td>13.396657380957073</td>\n</tr>\n<tr>\n<td>532</td>\n<td>2018-01-03</td>\n<td>70</td>\n<td>D8HS7</td>\n<td>False</td>\n<td>1</td>\n<td>0</td>\n<td>0.9110273320740714</td>\n<td>63.771913245185</td>\n</tr>\n<tr>\n<td>533</td>\n<td>2018-01-01</td>\n<td>95</td>\n<td>0AWHI</td>\n<td>False</td>\n<td>1</td>\n<td>0</td>\n<td>0.5135152044391742</td>\n<td>48.78394442172155</td>\n</tr>\n</table>"
     },
     "metadata": {}
    }
   ],
   "source": [
    "table_part_one = table.copy\n",
    "table_part_one.filter(lambda row: row[\"Integers\"] > 50)\n",
    "table_part_one.display()"
   ]
  },
  {
   "cell_type": "code",
   "execution_count": 10,
   "metadata": {
    "tags": []
   },
   "outputs": [
    {
     "output_type": "display_data",
     "data": {
      "text/plain": "<IPython.core.display.HTML object>",
      "text/html": "<table>\n<tr>\n<th><br></br><br></br>Index</th>\n<th><b><u>Dates</u></b><br>DataType:date</br></th>\n<th><b><u>Integers</u></b><br>DataType:int</br></th>\n<th><b><u>Strings</u></b><br>DataType:str</br></th>\n<th><b><u>Booleans</u></b><br>DataType:bool</br></th>\n<th><b><u>BooleansFalse</u></b><br>DataType:int</br></th>\n<th><b><u>BooleansTrue</u></b><br>DataType:int</br></th>\n<th><b><u>Floats</u></b><br>DataType:float</br></th>\n<th><b><u>Multiplication</u></b><br>DataType:float</br></th>\n</tr>\n<tr>\n<td>0</td>\n<td>2020-09-23</td>\n<td>43</td>\n<td>D1WZK</td>\n<td>False</td>\n<td>1</td>\n<td>0</td>\n<td>0.104563314308173</td>\n<td>4.496222515251439</td>\n</tr>\n<tr>\n<td>1</td>\n<td>2020-09-20</td>\n<td>37</td>\n<td>L2JA9</td>\n<td>False</td>\n<td>1</td>\n<td>0</td>\n<td>0.8531559530323103</td>\n<td>31.56677026219548</td>\n</tr>\n<tr>\n<td>2</td>\n<td>2020-09-17</td>\n<td>43</td>\n<td>WFLHD</td>\n<td>False</td>\n<td>1</td>\n<td>0</td>\n<td>0.5382981104911942</td>\n<td>23.14681875112135</td>\n</tr>\n<tr>\n<td>3</td>\n<td>2020-09-16</td>\n<td>30</td>\n<td>6T748</td>\n<td>False</td>\n<td>1</td>\n<td>0</td>\n<td>0.5364774173593463</td>\n<td>16.094322520780388</td>\n</tr>\n<tr>\n<td>4</td>\n<td>2020-09-14</td>\n<td>32</td>\n<td>1RQI6</td>\n<td>False</td>\n<td>1</td>\n<td>0</td>\n<td>0.06749268701963307</td>\n<td>2.159765984628258</td>\n</tr>\n<tr>\n<td>...</td>\n<td>...</td>\n<td>...</td>\n<td>...</td>\n<td>...</td>\n<td>...</td>\n<td>...</td>\n<td>...</td>\n<td>...</td>\n</tr>\n<tr>\n<td>461</td>\n<td>2018-01-12</td>\n<td>23</td>\n<td>FV7SI</td>\n<td>False</td>\n<td>1</td>\n<td>0</td>\n<td>0.8222483906527474</td>\n<td>18.91171298501319</td>\n</tr>\n<tr>\n<td>462</td>\n<td>2018-01-09</td>\n<td>16</td>\n<td>INJDC</td>\n<td>True</td>\n<td>0</td>\n<td>1</td>\n<td>0.2000797619456326</td>\n<td>3.2012761911301215</td>\n</tr>\n<tr>\n<td>463</td>\n<td>2018-01-08</td>\n<td>29</td>\n<td>SQTQ9</td>\n<td>False</td>\n<td>1</td>\n<td>0</td>\n<td>0.7530168788345791</td>\n<td>21.837489486202795</td>\n</tr>\n<tr>\n<td>464</td>\n<td>2018-01-04</td>\n<td>17</td>\n<td>DLS5O</td>\n<td>True</td>\n<td>0</td>\n<td>1</td>\n<td>0.8127992997407573</td>\n<td>13.817588095592873</td>\n</tr>\n<tr>\n<td>465</td>\n<td>2018-01-02</td>\n<td>28</td>\n<td>9OO9N</td>\n<td>True</td>\n<td>0</td>\n<td>1</td>\n<td>0.08810802980370314</td>\n<td>2.467024834503688</td>\n</tr>\n</table>"
     },
     "metadata": {}
    }
   ],
   "source": [
    "table_part_two = table.copy\n",
    "table_part_two.filter(lambda row: row[\"Integers\"] <= 50)\n",
    "table_part_two.display()"
   ]
  },
  {
   "cell_type": "code",
   "execution_count": 11,
   "metadata": {
    "tags": []
   },
   "outputs": [
    {
     "output_type": "display_data",
     "data": {
      "text/plain": "<IPython.core.display.HTML object>",
      "text/html": "<table>\n<tr>\n<th><br></br><br></br>Index</th>\n<th><b><u>Dates</u></b><br>DataType:date</br></th>\n<th><b><u>Integers</u></b><br>DataType:int</br></th>\n<th><b><u>Strings</u></b><br>DataType:str</br></th>\n<th><b><u>Booleans</u></b><br>DataType:bool</br></th>\n<th><b><u>BooleansFalse</u></b><br>DataType:int</br></th>\n<th><b><u>BooleansTrue</u></b><br>DataType:int</br></th>\n<th><b><u>Floats</u></b><br>DataType:float</br></th>\n<th><b><u>Multiplication</u></b><br>DataType:float</br></th>\n</tr>\n<tr>\n<td>0</td>\n<td>2018-01-01</td>\n<td>95</td>\n<td>0AWHI</td>\n<td>False</td>\n<td>1</td>\n<td>0</td>\n<td>0.5135152044391742</td>\n<td>48.78394442172155</td>\n</tr>\n<tr>\n<td>1</td>\n<td>2018-01-02</td>\n<td>None</td>\n<td>9OO9N</td>\n<td>None</td>\n<td>None</td>\n<td>None</td>\n<td>2.467024834503688</td>\n<td>None</td>\n</tr>\n<tr>\n<td>2</td>\n<td>2018-01-03</td>\n<td>70</td>\n<td>D8HS7</td>\n<td>False</td>\n<td>1</td>\n<td>0</td>\n<td>0.9110273320740714</td>\n<td>63.771913245185</td>\n</tr>\n<tr>\n<td>3</td>\n<td>2018-01-04</td>\n<td>None</td>\n<td>DLS5O</td>\n<td>None</td>\n<td>None</td>\n<td>None</td>\n<td>13.817588095592873</td>\n<td>None</td>\n</tr>\n<tr>\n<td>4</td>\n<td>2018-01-05</td>\n<td>93</td>\n<td>FLSLU</td>\n<td>True</td>\n<td>0</td>\n<td>1</td>\n<td>0.1440500793651298</td>\n<td>13.396657380957073</td>\n</tr>\n<tr>\n<td>...</td>\n<td>...</td>\n<td>...</td>\n<td>...</td>\n<td>...</td>\n<td>...</td>\n<td>...</td>\n<td>...</td>\n<td>...</td>\n</tr>\n<tr>\n<td>995</td>\n<td>2020-09-22</td>\n<td>54</td>\n<td>RRDPP</td>\n<td>False</td>\n<td>1</td>\n<td>0</td>\n<td>0.21783290727597293</td>\n<td>11.762976992902539</td>\n</tr>\n<tr>\n<td>996</td>\n<td>2020-09-23</td>\n<td>None</td>\n<td>D1WZK</td>\n<td>None</td>\n<td>None</td>\n<td>None</td>\n<td>4.496222515251439</td>\n<td>None</td>\n</tr>\n<tr>\n<td>997</td>\n<td>2020-09-24</td>\n<td>68</td>\n<td>IQAP7</td>\n<td>True</td>\n<td>0</td>\n<td>1</td>\n<td>0.9054264789203592</td>\n<td>61.56900056658443</td>\n</tr>\n<tr>\n<td>998</td>\n<td>2020-09-25</td>\n<td>86</td>\n<td>CTDZ5</td>\n<td>True</td>\n<td>0</td>\n<td>1</td>\n<td>0.9479238857805974</td>\n<td>81.52145417713137</td>\n</tr>\n<tr>\n<td>999</td>\n<td>2020-09-26</td>\n<td>79</td>\n<td>X0ZIT</td>\n<td>False</td>\n<td>1</td>\n<td>0</td>\n<td>0.10238912196767758</td>\n<td>8.088740635446529</td>\n</tr>\n</table>"
     },
     "metadata": {}
    }
   ],
   "source": [
    "table_part_one.concatenate(table_part_two, [\"Dates\", \"Floats\", \"Strings\"], [\"Dates\", \"Multiplication\", \"Strings\"])\n",
    "table_part_one.sort([\"Dates\"])\n",
    "table_part_one.display()"
   ]
  },
  {
   "cell_type": "code",
   "execution_count": 12,
   "metadata": {},
   "outputs": [
    {
     "output_type": "display_data",
     "data": {
      "text/plain": "<IPython.core.display.HTML object>",
      "text/html": "<table>\n<tr>\n<th><br></br><br></br>Index</th>\n<th><b><u>Dates</u></b><br>DataType:date</br></th>\n<th><b><u>RegistredValues</u></b><br>DataType:float</br></th>\n</tr>\n<tr>\n<td>0</td>\n<td>2020-09-26</td>\n<td>63.2957</td>\n</tr>\n<tr>\n<td>1</td>\n<td>2020-09-25</td>\n<td>89.6182</td>\n</tr>\n<tr>\n<td>2</td>\n<td>2020-09-24</td>\n<td>22.3415</td>\n</tr>\n<tr>\n<td>3</td>\n<td>2020-09-23</td>\n<td>91.6807</td>\n</tr>\n<tr>\n<td>4</td>\n<td>2020-09-22</td>\n<td>85.3242</td>\n</tr>\n<tr>\n<td>...</td>\n<td>...</td>\n<td>...</td>\n</tr>\n<tr>\n<td>495</td>\n<td>2019-05-20</td>\n<td>54.6083</td>\n</tr>\n<tr>\n<td>496</td>\n<td>2019-05-19</td>\n<td>19.0561</td>\n</tr>\n<tr>\n<td>497</td>\n<td>2019-05-18</td>\n<td>58.27</td>\n</tr>\n<tr>\n<td>498</td>\n<td>2019-05-17</td>\n<td>85.105</td>\n</tr>\n<tr>\n<td>499</td>\n<td>2019-05-16</td>\n<td>26.8781</td>\n</tr>\n</table>"
     },
     "metadata": {}
    }
   ],
   "source": [
    "table_to_join = DataTable({\n",
    "    \"Dates\": [datetime.date.today() - datetime.timedelta(days=i) for i in range(table_len//2)],\n",
    "    \"RegistredValues\": [round(random.random()*100,4) for _ in range(table_len//2)]\n",
    "})\n",
    "table_to_join.display()"
   ]
  },
  {
   "cell_type": "code",
   "execution_count": 13,
   "metadata": {},
   "outputs": [
    {
     "output_type": "display_data",
     "data": {
      "text/plain": "<IPython.core.display.HTML object>",
      "text/html": "<table>\n<tr>\n<th><br></br><br></br>Index</th>\n<th><b><u>Dates</u></b><br>DataType:date</br></th>\n<th><b><u>Integers</u></b><br>DataType:int</br></th>\n<th><b><u>Strings</u></b><br>DataType:str</br></th>\n<th><b><u>Booleans</u></b><br>DataType:bool</br></th>\n<th><b><u>BooleansFalse</u></b><br>DataType:int</br></th>\n<th><b><u>BooleansTrue</u></b><br>DataType:int</br></th>\n<th><b><u>Floats</u></b><br>DataType:float</br></th>\n<th><b><u>Multiplication</u></b><br>DataType:float</br></th>\n<th><b><u>RegistredValues</u></b><br>DataType:float</br></th>\n</tr>\n<tr>\n<td>0</td>\n<td>2020-09-26</td>\n<td>79</td>\n<td>X0ZIT</td>\n<td>False</td>\n<td>1</td>\n<td>0</td>\n<td>0.10238912196767758</td>\n<td>8.088740635446529</td>\n<td>63.2957</td>\n</tr>\n<tr>\n<td>1</td>\n<td>2020-09-25</td>\n<td>86</td>\n<td>CTDZ5</td>\n<td>True</td>\n<td>0</td>\n<td>1</td>\n<td>0.9479238857805974</td>\n<td>81.52145417713137</td>\n<td>89.6182</td>\n</tr>\n<tr>\n<td>2</td>\n<td>2020-09-24</td>\n<td>68</td>\n<td>IQAP7</td>\n<td>True</td>\n<td>0</td>\n<td>1</td>\n<td>0.9054264789203592</td>\n<td>61.56900056658443</td>\n<td>22.3415</td>\n</tr>\n<tr>\n<td>3</td>\n<td>2020-09-23</td>\n<td>43</td>\n<td>D1WZK</td>\n<td>False</td>\n<td>1</td>\n<td>0</td>\n<td>0.104563314308173</td>\n<td>4.496222515251439</td>\n<td>91.6807</td>\n</tr>\n<tr>\n<td>4</td>\n<td>2020-09-22</td>\n<td>54</td>\n<td>RRDPP</td>\n<td>False</td>\n<td>1</td>\n<td>0</td>\n<td>0.21783290727597293</td>\n<td>11.762976992902539</td>\n<td>85.3242</td>\n</tr>\n<tr>\n<td>...</td>\n<td>...</td>\n<td>...</td>\n<td>...</td>\n<td>...</td>\n<td>...</td>\n<td>...</td>\n<td>...</td>\n<td>...</td>\n<td>...</td>\n</tr>\n<tr>\n<td>995</td>\n<td>2018-01-05</td>\n<td>93</td>\n<td>FLSLU</td>\n<td>True</td>\n<td>0</td>\n<td>1</td>\n<td>0.1440500793651298</td>\n<td>13.396657380957073</td>\n<td>None</td>\n</tr>\n<tr>\n<td>996</td>\n<td>2018-01-04</td>\n<td>17</td>\n<td>DLS5O</td>\n<td>True</td>\n<td>0</td>\n<td>1</td>\n<td>0.8127992997407573</td>\n<td>13.817588095592873</td>\n<td>None</td>\n</tr>\n<tr>\n<td>997</td>\n<td>2018-01-03</td>\n<td>70</td>\n<td>D8HS7</td>\n<td>False</td>\n<td>1</td>\n<td>0</td>\n<td>0.9110273320740714</td>\n<td>63.771913245185</td>\n<td>None</td>\n</tr>\n<tr>\n<td>998</td>\n<td>2018-01-02</td>\n<td>28</td>\n<td>9OO9N</td>\n<td>True</td>\n<td>0</td>\n<td>1</td>\n<td>0.08810802980370314</td>\n<td>2.467024834503688</td>\n<td>None</td>\n</tr>\n<tr>\n<td>999</td>\n<td>2018-01-01</td>\n<td>95</td>\n<td>0AWHI</td>\n<td>False</td>\n<td>1</td>\n<td>0</td>\n<td>0.5135152044391742</td>\n<td>48.78394442172155</td>\n<td>None</td>\n</tr>\n</table>"
     },
     "metadata": {}
    }
   ],
   "source": [
    "table.join(table_to_join, \"Dates\", \"Dates\")\n",
    "table.display()"
   ]
  },
  {
   "cell_type": "code",
   "execution_count": 14,
   "metadata": {},
   "outputs": [],
   "source": [
    "from statistics import mean, stdev\n",
    "\n",
    "mu = mean(table[\"Multiplication\"])\n",
    "sigma = stdev(table[\"Multiplication\"])\n",
    "\n",
    "table.apply(\"Multiplication\", lambda row: round((row-mu)/sigma, 4))"
   ]
  },
  {
   "cell_type": "code",
   "execution_count": 15,
   "metadata": {},
   "outputs": [
    {
     "output_type": "display_data",
     "data": {
      "text/plain": "<IPython.core.display.HTML object>",
      "text/html": "<table>\n<tr>\n<th><br></br><br></br>Index</th>\n<th><b><u>Dates</u></b><br>DataType:date</br></th>\n<th><b><u>Integers</u></b><br>DataType:int</br></th>\n<th><b><u>Strings</u></b><br>DataType:str</br></th>\n<th><b><u>Booleans</u></b><br>DataType:bool</br></th>\n<th><b><u>BooleansFalse</u></b><br>DataType:int</br></th>\n<th><b><u>BooleansTrue</u></b><br>DataType:int</br></th>\n<th><b><u>Floats</u></b><br>DataType:float</br></th>\n<th><b><u>Multiplication</u></b><br>DataType:float</br></th>\n<th><b><u>RegistredValues</u></b><br>DataType:float</br></th>\n</tr>\n<tr>\n<td>0</td>\n<td>2020-09-26</td>\n<td>79</td>\n<td>X0ZIT</td>\n<td>False</td>\n<td>1</td>\n<td>0</td>\n<td>0.10238912196767758</td>\n<td>-0.8611</td>\n<td>63.2957</td>\n</tr>\n<tr>\n<td>1</td>\n<td>2020-09-25</td>\n<td>86</td>\n<td>CTDZ5</td>\n<td>True</td>\n<td>0</td>\n<td>1</td>\n<td>0.9479238857805974</td>\n<td>2.5421</td>\n<td>89.6182</td>\n</tr>\n<tr>\n<td>2</td>\n<td>2020-09-24</td>\n<td>68</td>\n<td>IQAP7</td>\n<td>True</td>\n<td>0</td>\n<td>1</td>\n<td>0.9054264789203592</td>\n<td>1.6174</td>\n<td>22.3415</td>\n</tr>\n<tr>\n<td>3</td>\n<td>2020-09-23</td>\n<td>43</td>\n<td>D1WZK</td>\n<td>False</td>\n<td>1</td>\n<td>0</td>\n<td>0.104563314308173</td>\n<td>-1.0276</td>\n<td>91.6807</td>\n</tr>\n<tr>\n<td>4</td>\n<td>2020-09-22</td>\n<td>54</td>\n<td>RRDPP</td>\n<td>False</td>\n<td>1</td>\n<td>0</td>\n<td>0.21783290727597293</td>\n<td>-0.6909</td>\n<td>85.3242</td>\n</tr>\n<tr>\n<td>...</td>\n<td>...</td>\n<td>...</td>\n<td>...</td>\n<td>...</td>\n<td>...</td>\n<td>...</td>\n<td>...</td>\n<td>...</td>\n<td>...</td>\n</tr>\n<tr>\n<td>995</td>\n<td>2018-01-05</td>\n<td>93</td>\n<td>FLSLU</td>\n<td>True</td>\n<td>0</td>\n<td>1</td>\n<td>0.1440500793651298</td>\n<td>-0.6151</td>\n<td>None</td>\n</tr>\n<tr>\n<td>996</td>\n<td>2018-01-04</td>\n<td>17</td>\n<td>DLS5O</td>\n<td>True</td>\n<td>0</td>\n<td>1</td>\n<td>0.8127992997407573</td>\n<td>-0.5956</td>\n<td>None</td>\n</tr>\n<tr>\n<td>997</td>\n<td>2018-01-03</td>\n<td>70</td>\n<td>D8HS7</td>\n<td>False</td>\n<td>1</td>\n<td>0</td>\n<td>0.9110273320740714</td>\n<td>1.7195</td>\n<td>None</td>\n</tr>\n<tr>\n<td>998</td>\n<td>2018-01-02</td>\n<td>28</td>\n<td>9OO9N</td>\n<td>True</td>\n<td>0</td>\n<td>1</td>\n<td>0.08810802980370314</td>\n<td>-1.1217</td>\n<td>None</td>\n</tr>\n<tr>\n<td>999</td>\n<td>2018-01-01</td>\n<td>95</td>\n<td>0AWHI</td>\n<td>False</td>\n<td>1</td>\n<td>0</td>\n<td>0.5135152044391742</td>\n<td>1.0249</td>\n<td>None</td>\n</tr>\n</table>"
     },
     "metadata": {}
    }
   ],
   "source": [
    "table.display()"
   ]
  },
  {
   "cell_type": "code",
   "execution_count": null,
   "metadata": {},
   "outputs": [],
   "source": []
  }
 ]
}