{
 "metadata": {
  "language_info": {
   "codemirror_mode": {
    "name": "ipython",
    "version": 3
   },
   "file_extension": ".py",
   "mimetype": "text/x-python",
   "name": "python",
   "nbconvert_exporter": "python",
   "pygments_lexer": "ipython3",
   "version": "3.8.5-final"
  },
  "orig_nbformat": 2,
  "kernelspec": {
   "name": "Python 3.8.5 64-bit ('PyBox': conda)",
   "display_name": "Python 3.8.5 64-bit ('PyBox': conda)",
   "metadata": {
    "interpreter": {
     "hash": "c1a5da4ca35d3cb3932b3c104e9f8344b77033ff7166c565cdd66713a6c2079e"
    }
   }
  }
 },
 "nbformat": 4,
 "nbformat_minor": 2,
 "cells": [
  {
   "cell_type": "code",
   "execution_count": 1,
   "metadata": {},
   "outputs": [],
   "source": [
    "import datetime\n",
    "import string\n",
    "import random\n",
    "import os\n",
    "os.chdir(\"C:\\\\PyBox\\\\\")\n",
    "\n",
    "import pybox as pb\n",
    "from pybox.GLOBALS import *"
   ]
  },
  {
   "cell_type": "code",
   "execution_count": 2,
   "metadata": {},
   "outputs": [
    {
     "output_type": "display_data",
     "data": {
      "text/plain": "<IPython.core.display.HTML object>",
      "text/html": "<table>\n<tr>\n<th><br></br><br></br>Index</th>\n<th><b><u>Integers</u></b><br>DataType:int</br></th>\n<th><b><u>Strings</u></b><br>DataType:str</br></th>\n<th><b><u>Booleans</u></b><br>DataType:bool</br></th>\n</tr>\n<tr>\n<td>0</td>\n<td>50</td>\n<td>QM218</td>\n<td>False</td>\n</tr>\n<tr>\n<td>1</td>\n<td>18</td>\n<td>197AS</td>\n<td>False</td>\n</tr>\n<tr>\n<td>2</td>\n<td>24</td>\n<td>7Y2VA</td>\n<td>False</td>\n</tr>\n<tr>\n<td>3</td>\n<td>20</td>\n<td>P5Q4K</td>\n<td>False</td>\n</tr>\n<tr>\n<td>4</td>\n<td>42</td>\n<td>NVF04</td>\n<td>True</td>\n</tr>\n<tr>\n<td>...</td>\n<td>...</td>\n<td>...</td>\n<td>...</td>\n</tr>\n<tr>\n<td>995</td>\n<td>66</td>\n<td>KQL5G</td>\n<td>True</td>\n</tr>\n<tr>\n<td>996</td>\n<td>24</td>\n<td>FVC0W</td>\n<td>False</td>\n</tr>\n<tr>\n<td>997</td>\n<td>79</td>\n<td>CVZF1</td>\n<td>True</td>\n</tr>\n<tr>\n<td>998</td>\n<td>86</td>\n<td>IU61D</td>\n<td>True</td>\n</tr>\n<tr>\n<td>999</td>\n<td>74</td>\n<td>CKEX1</td>\n<td>False</td>\n</tr>\n</table>"
     },
     "metadata": {}
    }
   ],
   "source": [
    "table_len = 1000\n",
    "\n",
    "table = pb.DataTable({\n",
    "    \"Integers\": [random.randint(10,99) for _ in range(table_len)],\n",
    "    \"Strings\": [''.join(random.choices(string.ascii_uppercase + string.digits, k=5)) for _ in range(table_len)],\n",
    "    \"Booleans\": [bool(random.getrandbits(1)) for _ in range(table_len)]\n",
    "})\n",
    "table.display()"
   ]
  },
  {
   "cell_type": "code",
   "execution_count": 3,
   "metadata": {
    "tags": []
   },
   "outputs": [
    {
     "output_type": "display_data",
     "data": {
      "text/plain": "<IPython.core.display.HTML object>",
      "text/html": "<table>\n<tr>\n<th><br></br><br></br>Index</th>\n<th><b><u>Dates</u></b><br>DataType:date</br></th>\n<th><b><u>Integers</u></b><br>DataType:int</br></th>\n<th><b><u>Strings</u></b><br>DataType:str</br></th>\n<th><b><u>Booleans</u></b><br>DataType:bool</br></th>\n<th><b><u>Floats</u></b><br>DataType:float</br></th>\n<th><b><u>Multiplication</u></b><br>DataType:float</br></th>\n</tr>\n<tr>\n<td>0</td>\n<td>2020-10-11</td>\n<td>50</td>\n<td>QM218</td>\n<td>False</td>\n<td>0.43830507361467097</td>\n<td>21.91525368073355</td>\n</tr>\n<tr>\n<td>1</td>\n<td>2020-10-10</td>\n<td>18</td>\n<td>197AS</td>\n<td>False</td>\n<td>0.4571165961286293</td>\n<td>8.228098730315327</td>\n</tr>\n<tr>\n<td>2</td>\n<td>2020-10-09</td>\n<td>24</td>\n<td>7Y2VA</td>\n<td>False</td>\n<td>0.9724783556976944</td>\n<td>23.339480536744666</td>\n</tr>\n<tr>\n<td>3</td>\n<td>2020-10-08</td>\n<td>20</td>\n<td>P5Q4K</td>\n<td>False</td>\n<td>0.19941451904200935</td>\n<td>3.988290380840187</td>\n</tr>\n<tr>\n<td>4</td>\n<td>2020-10-07</td>\n<td>42</td>\n<td>NVF04</td>\n<td>True</td>\n<td>0.94477058259231</td>\n<td>39.680364468877016</td>\n</tr>\n<tr>\n<td>...</td>\n<td>...</td>\n<td>...</td>\n<td>...</td>\n<td>...</td>\n<td>...</td>\n<td>...</td>\n</tr>\n<tr>\n<td>995</td>\n<td>2018-01-20</td>\n<td>66</td>\n<td>KQL5G</td>\n<td>True</td>\n<td>0.0037708866493089133</td>\n<td>0.24887851885438828</td>\n</tr>\n<tr>\n<td>996</td>\n<td>2018-01-19</td>\n<td>24</td>\n<td>FVC0W</td>\n<td>False</td>\n<td>0.3419076525686223</td>\n<td>8.205783661646937</td>\n</tr>\n<tr>\n<td>997</td>\n<td>2018-01-18</td>\n<td>79</td>\n<td>CVZF1</td>\n<td>True</td>\n<td>0.4313602905675218</td>\n<td>34.07746295483422</td>\n</tr>\n<tr>\n<td>998</td>\n<td>2018-01-17</td>\n<td>86</td>\n<td>IU61D</td>\n<td>True</td>\n<td>0.4074812193512716</td>\n<td>35.04338486420936</td>\n</tr>\n<tr>\n<td>999</td>\n<td>2018-01-16</td>\n<td>74</td>\n<td>CKEX1</td>\n<td>False</td>\n<td>0.33892587837341814</td>\n<td>25.080514999632943</td>\n</tr>\n</table>"
     },
     "metadata": {}
    }
   ],
   "source": [
    "table.insert_column(\"Floats\", [random.random() for _ in range(table_len)])\n",
    "\n",
    "for row in table:\n",
    "    row[\"Multiplication\"] = row[\"Integers\"] * row[\"Floats\"]\n",
    "\n",
    "table.insert_column(\n",
    "    \"Dates\",\n",
    "    [datetime.date.today() - datetime.timedelta(days=i) for i in range(table_len)],\n",
    "    column_index=0)\n",
    "\n",
    "table.display()"
   ]
  },
  {
   "cell_type": "code",
   "execution_count": 4,
   "metadata": {},
   "outputs": [
    {
     "output_type": "execute_result",
     "data": {
      "text/plain": [
       "[['Dates', datetime.date],\n",
       " ['Integers', int],\n",
       " ['Strings', str],\n",
       " ['Booleans', bool],\n",
       " ['Floats', float],\n",
       " ['Multiplication', float]]"
      ]
     },
     "metadata": {},
     "execution_count": 4
    }
   ],
   "source": [
    "table._data_map"
   ]
  },
  {
   "cell_type": "code",
   "execution_count": 5,
   "metadata": {},
   "outputs": [
    {
     "output_type": "display_data",
     "data": {
      "text/plain": "<IPython.core.display.HTML object>",
      "text/html": "<table>\n<tr>\n<th><br></br><br></br>Index</th>\n<th><b><u>Dates</u></b><br>DataType:date</br></th>\n<th><b><u>Integers</u></b><br>DataType:int</br></th>\n<th><b><u>Strings</u></b><br>DataType:str</br></th>\n<th><b><u>Booleans</u></b><br>DataType:bool</br></th>\n<th><b><u>BooleansFalse</u></b><br>DataType:int</br></th>\n<th><b><u>BooleansTrue</u></b><br>DataType:int</br></th>\n<th><b><u>Floats</u></b><br>DataType:float</br></th>\n<th><b><u>Multiplication</u></b><br>DataType:float</br></th>\n</tr>\n<tr>\n<td>0</td>\n<td>2020-10-11</td>\n<td>50</td>\n<td>QM218</td>\n<td>False</td>\n<td>1</td>\n<td>0</td>\n<td>0.43830507361467097</td>\n<td>21.91525368073355</td>\n</tr>\n<tr>\n<td>1</td>\n<td>2020-10-10</td>\n<td>18</td>\n<td>197AS</td>\n<td>False</td>\n<td>1</td>\n<td>0</td>\n<td>0.4571165961286293</td>\n<td>8.228098730315327</td>\n</tr>\n<tr>\n<td>2</td>\n<td>2020-10-09</td>\n<td>24</td>\n<td>7Y2VA</td>\n<td>False</td>\n<td>1</td>\n<td>0</td>\n<td>0.9724783556976944</td>\n<td>23.339480536744666</td>\n</tr>\n<tr>\n<td>3</td>\n<td>2020-10-08</td>\n<td>20</td>\n<td>P5Q4K</td>\n<td>False</td>\n<td>1</td>\n<td>0</td>\n<td>0.19941451904200935</td>\n<td>3.988290380840187</td>\n</tr>\n<tr>\n<td>4</td>\n<td>2020-10-07</td>\n<td>42</td>\n<td>NVF04</td>\n<td>True</td>\n<td>0</td>\n<td>1</td>\n<td>0.94477058259231</td>\n<td>39.680364468877016</td>\n</tr>\n<tr>\n<td>...</td>\n<td>...</td>\n<td>...</td>\n<td>...</td>\n<td>...</td>\n<td>...</td>\n<td>...</td>\n<td>...</td>\n<td>...</td>\n</tr>\n<tr>\n<td>995</td>\n<td>2018-01-20</td>\n<td>66</td>\n<td>KQL5G</td>\n<td>True</td>\n<td>0</td>\n<td>1</td>\n<td>0.0037708866493089133</td>\n<td>0.24887851885438828</td>\n</tr>\n<tr>\n<td>996</td>\n<td>2018-01-19</td>\n<td>24</td>\n<td>FVC0W</td>\n<td>False</td>\n<td>1</td>\n<td>0</td>\n<td>0.3419076525686223</td>\n<td>8.205783661646937</td>\n</tr>\n<tr>\n<td>997</td>\n<td>2018-01-18</td>\n<td>79</td>\n<td>CVZF1</td>\n<td>True</td>\n<td>0</td>\n<td>1</td>\n<td>0.4313602905675218</td>\n<td>34.07746295483422</td>\n</tr>\n<tr>\n<td>998</td>\n<td>2018-01-17</td>\n<td>86</td>\n<td>IU61D</td>\n<td>True</td>\n<td>0</td>\n<td>1</td>\n<td>0.4074812193512716</td>\n<td>35.04338486420936</td>\n</tr>\n<tr>\n<td>999</td>\n<td>2018-01-16</td>\n<td>74</td>\n<td>CKEX1</td>\n<td>False</td>\n<td>1</td>\n<td>0</td>\n<td>0.33892587837341814</td>\n<td>25.080514999632943</td>\n</tr>\n</table>"
     },
     "metadata": {}
    }
   ],
   "source": [
    "table.create_dummies(\"Booleans\", False)\n",
    "table.display()"
   ]
  },
  {
   "cell_type": "code",
   "execution_count": 6,
   "metadata": {
    "tags": []
   },
   "outputs": [
    {
     "output_type": "stream",
     "name": "stdout",
     "text": [
      "DataTable(shape=8x1000,bytesize=300401)\nDates: date\nIntegers: int\nStrings: str\nBooleans: bool\nBooleansFalse: int\nBooleansTrue: int\nFloats: float\nMultiplication: float\n"
     ]
    }
   ],
   "source": [
    "print(table)"
   ]
  },
  {
   "cell_type": "code",
   "execution_count": 7,
   "metadata": {},
   "outputs": [],
   "source": [
    "pb.flow.table_to_parquet(table, \"TestDataTable\", APP_PATH + \"\\\\tests\\\\\")"
   ]
  },
  {
   "cell_type": "code",
   "execution_count": 8,
   "metadata": {},
   "outputs": [
    {
     "output_type": "display_data",
     "data": {
      "text/plain": "<IPython.core.display.HTML object>",
      "text/html": "<table>\n<tr>\n<th><br></br><br></br>Index</th>\n<th><b><u>Dates</u></b><br>DataType:date</br></th>\n<th><b><u>Integers</u></b><br>DataType:int</br></th>\n<th><b><u>Strings</u></b><br>DataType:str</br></th>\n<th><b><u>Booleans</u></b><br>DataType:bool</br></th>\n<th><b><u>BooleansFalse</u></b><br>DataType:int</br></th>\n<th><b><u>BooleansTrue</u></b><br>DataType:int</br></th>\n<th><b><u>Floats</u></b><br>DataType:float</br></th>\n<th><b><u>Multiplication</u></b><br>DataType:float</br></th>\n</tr>\n<tr>\n<td>0</td>\n<td>2020-10-11</td>\n<td>50</td>\n<td>QM218</td>\n<td>False</td>\n<td>1</td>\n<td>0</td>\n<td>0.43830507361467097</td>\n<td>21.91525368073355</td>\n</tr>\n<tr>\n<td>1</td>\n<td>2020-10-10</td>\n<td>18</td>\n<td>197AS</td>\n<td>False</td>\n<td>1</td>\n<td>0</td>\n<td>0.4571165961286293</td>\n<td>8.228098730315327</td>\n</tr>\n<tr>\n<td>2</td>\n<td>2020-10-09</td>\n<td>24</td>\n<td>7Y2VA</td>\n<td>False</td>\n<td>1</td>\n<td>0</td>\n<td>0.9724783556976944</td>\n<td>23.339480536744666</td>\n</tr>\n<tr>\n<td>3</td>\n<td>2020-10-08</td>\n<td>20</td>\n<td>P5Q4K</td>\n<td>False</td>\n<td>1</td>\n<td>0</td>\n<td>0.19941451904200935</td>\n<td>3.988290380840187</td>\n</tr>\n<tr>\n<td>4</td>\n<td>2020-10-07</td>\n<td>42</td>\n<td>NVF04</td>\n<td>True</td>\n<td>0</td>\n<td>1</td>\n<td>0.94477058259231</td>\n<td>39.680364468877016</td>\n</tr>\n<tr>\n<td>...</td>\n<td>...</td>\n<td>...</td>\n<td>...</td>\n<td>...</td>\n<td>...</td>\n<td>...</td>\n<td>...</td>\n<td>...</td>\n</tr>\n<tr>\n<td>995</td>\n<td>2018-01-20</td>\n<td>66</td>\n<td>KQL5G</td>\n<td>True</td>\n<td>0</td>\n<td>1</td>\n<td>0.0037708866493089133</td>\n<td>0.24887851885438828</td>\n</tr>\n<tr>\n<td>996</td>\n<td>2018-01-19</td>\n<td>24</td>\n<td>FVC0W</td>\n<td>False</td>\n<td>1</td>\n<td>0</td>\n<td>0.3419076525686223</td>\n<td>8.205783661646937</td>\n</tr>\n<tr>\n<td>997</td>\n<td>2018-01-18</td>\n<td>79</td>\n<td>CVZF1</td>\n<td>True</td>\n<td>0</td>\n<td>1</td>\n<td>0.4313602905675218</td>\n<td>34.07746295483422</td>\n</tr>\n<tr>\n<td>998</td>\n<td>2018-01-17</td>\n<td>86</td>\n<td>IU61D</td>\n<td>True</td>\n<td>0</td>\n<td>1</td>\n<td>0.4074812193512716</td>\n<td>35.04338486420936</td>\n</tr>\n<tr>\n<td>999</td>\n<td>2018-01-16</td>\n<td>74</td>\n<td>CKEX1</td>\n<td>False</td>\n<td>1</td>\n<td>0</td>\n<td>0.33892587837341814</td>\n<td>25.080514999632943</td>\n</tr>\n</table>"
     },
     "metadata": {}
    }
   ],
   "source": [
    "table = pb.flow.table_from_parquet(\"TestDataTable\", APP_PATH + \"\\\\tests\\\\\")\n",
    "table.display()"
   ]
  },
  {
   "cell_type": "code",
   "execution_count": 9,
   "metadata": {},
   "outputs": [
    {
     "output_type": "display_data",
     "data": {
      "text/plain": "<IPython.core.display.HTML object>",
      "text/html": "<table>\n<tr>\n<th><br></br><br></br>Index</th>\n<th><b><u>Dates</u></b><br>DataType:date</br></th>\n<th><b><u>Integers</u></b><br>DataType:int</br></th>\n<th><b><u>Strings</u></b><br>DataType:str</br></th>\n<th><b><u>Booleans</u></b><br>DataType:bool</br></th>\n<th><b><u>BooleansFalse</u></b><br>DataType:int</br></th>\n<th><b><u>BooleansTrue</u></b><br>DataType:int</br></th>\n<th><b><u>Floats</u></b><br>DataType:float</br></th>\n<th><b><u>Multiplication</u></b><br>DataType:float</br></th>\n</tr>\n<tr>\n<td>0</td>\n<td>2020-10-06</td>\n<td>54</td>\n<td>K6ZS4</td>\n<td>False</td>\n<td>1</td>\n<td>0</td>\n<td>0.7784941468096063</td>\n<td>42.038683927718736</td>\n</tr>\n<tr>\n<td>1</td>\n<td>2020-10-03</td>\n<td>81</td>\n<td>SMF6U</td>\n<td>True</td>\n<td>0</td>\n<td>1</td>\n<td>0.6227135382719432</td>\n<td>50.4397966000274</td>\n</tr>\n<tr>\n<td>2</td>\n<td>2020-10-01</td>\n<td>78</td>\n<td>0CHCS</td>\n<td>False</td>\n<td>1</td>\n<td>0</td>\n<td>0.30982208708956716</td>\n<td>24.166122792986236</td>\n</tr>\n<tr>\n<td>3</td>\n<td>2020-09-30</td>\n<td>96</td>\n<td>OWGYV</td>\n<td>False</td>\n<td>1</td>\n<td>0</td>\n<td>0.0221951824023231</td>\n<td>2.1307375106230175</td>\n</tr>\n<tr>\n<td>4</td>\n<td>2020-09-29</td>\n<td>71</td>\n<td>70W2H</td>\n<td>True</td>\n<td>0</td>\n<td>1</td>\n<td>0.5607006133121359</td>\n<td>39.80974354516165</td>\n</tr>\n<tr>\n<td>...</td>\n<td>...</td>\n<td>...</td>\n<td>...</td>\n<td>...</td>\n<td>...</td>\n<td>...</td>\n<td>...</td>\n<td>...</td>\n</tr>\n<tr>\n<td>549</td>\n<td>2018-01-23</td>\n<td>76</td>\n<td>MSB11</td>\n<td>True</td>\n<td>0</td>\n<td>1</td>\n<td>0.7243538429077973</td>\n<td>55.05089206099259</td>\n</tr>\n<tr>\n<td>550</td>\n<td>2018-01-20</td>\n<td>66</td>\n<td>KQL5G</td>\n<td>True</td>\n<td>0</td>\n<td>1</td>\n<td>0.0037708866493089133</td>\n<td>0.24887851885438828</td>\n</tr>\n<tr>\n<td>551</td>\n<td>2018-01-18</td>\n<td>79</td>\n<td>CVZF1</td>\n<td>True</td>\n<td>0</td>\n<td>1</td>\n<td>0.4313602905675218</td>\n<td>34.07746295483422</td>\n</tr>\n<tr>\n<td>552</td>\n<td>2018-01-17</td>\n<td>86</td>\n<td>IU61D</td>\n<td>True</td>\n<td>0</td>\n<td>1</td>\n<td>0.4074812193512716</td>\n<td>35.04338486420936</td>\n</tr>\n<tr>\n<td>553</td>\n<td>2018-01-16</td>\n<td>74</td>\n<td>CKEX1</td>\n<td>False</td>\n<td>1</td>\n<td>0</td>\n<td>0.33892587837341814</td>\n<td>25.080514999632943</td>\n</tr>\n</table>"
     },
     "metadata": {}
    }
   ],
   "source": [
    "table_part_one = table.copy\n",
    "table_part_one.filter(lambda row: row[\"Integers\"] > 50)\n",
    "table_part_one.display()"
   ]
  },
  {
   "cell_type": "code",
   "execution_count": 10,
   "metadata": {
    "tags": []
   },
   "outputs": [
    {
     "output_type": "display_data",
     "data": {
      "text/plain": "<IPython.core.display.HTML object>",
      "text/html": "<table>\n<tr>\n<th><br></br><br></br>Index</th>\n<th><b><u>Dates</u></b><br>DataType:date</br></th>\n<th><b><u>Integers</u></b><br>DataType:int</br></th>\n<th><b><u>Strings</u></b><br>DataType:str</br></th>\n<th><b><u>Booleans</u></b><br>DataType:bool</br></th>\n<th><b><u>BooleansFalse</u></b><br>DataType:int</br></th>\n<th><b><u>BooleansTrue</u></b><br>DataType:int</br></th>\n<th><b><u>Floats</u></b><br>DataType:float</br></th>\n<th><b><u>Multiplication</u></b><br>DataType:float</br></th>\n</tr>\n<tr>\n<td>0</td>\n<td>2020-10-11</td>\n<td>50</td>\n<td>QM218</td>\n<td>False</td>\n<td>1</td>\n<td>0</td>\n<td>0.43830507361467097</td>\n<td>21.91525368073355</td>\n</tr>\n<tr>\n<td>1</td>\n<td>2020-10-10</td>\n<td>18</td>\n<td>197AS</td>\n<td>False</td>\n<td>1</td>\n<td>0</td>\n<td>0.4571165961286293</td>\n<td>8.228098730315327</td>\n</tr>\n<tr>\n<td>2</td>\n<td>2020-10-09</td>\n<td>24</td>\n<td>7Y2VA</td>\n<td>False</td>\n<td>1</td>\n<td>0</td>\n<td>0.9724783556976944</td>\n<td>23.339480536744666</td>\n</tr>\n<tr>\n<td>3</td>\n<td>2020-10-08</td>\n<td>20</td>\n<td>P5Q4K</td>\n<td>False</td>\n<td>1</td>\n<td>0</td>\n<td>0.19941451904200935</td>\n<td>3.988290380840187</td>\n</tr>\n<tr>\n<td>4</td>\n<td>2020-10-07</td>\n<td>42</td>\n<td>NVF04</td>\n<td>True</td>\n<td>0</td>\n<td>1</td>\n<td>0.94477058259231</td>\n<td>39.680364468877016</td>\n</tr>\n<tr>\n<td>...</td>\n<td>...</td>\n<td>...</td>\n<td>...</td>\n<td>...</td>\n<td>...</td>\n<td>...</td>\n<td>...</td>\n<td>...</td>\n</tr>\n<tr>\n<td>441</td>\n<td>2018-01-25</td>\n<td>11</td>\n<td>V349H</td>\n<td>False</td>\n<td>1</td>\n<td>0</td>\n<td>0.9815623154793219</td>\n<td>10.797185470272542</td>\n</tr>\n<tr>\n<td>442</td>\n<td>2018-01-24</td>\n<td>40</td>\n<td>OUJ22</td>\n<td>True</td>\n<td>0</td>\n<td>1</td>\n<td>0.1508103107714811</td>\n<td>6.032412430859244</td>\n</tr>\n<tr>\n<td>443</td>\n<td>2018-01-22</td>\n<td>27</td>\n<td>3XRRR</td>\n<td>False</td>\n<td>1</td>\n<td>0</td>\n<td>0.8996341390768348</td>\n<td>24.290121755074537</td>\n</tr>\n<tr>\n<td>444</td>\n<td>2018-01-21</td>\n<td>11</td>\n<td>QQ2DY</td>\n<td>True</td>\n<td>0</td>\n<td>1</td>\n<td>0.7444349485263488</td>\n<td>8.188784433789838</td>\n</tr>\n<tr>\n<td>445</td>\n<td>2018-01-19</td>\n<td>24</td>\n<td>FVC0W</td>\n<td>False</td>\n<td>1</td>\n<td>0</td>\n<td>0.3419076525686223</td>\n<td>8.205783661646937</td>\n</tr>\n</table>"
     },
     "metadata": {}
    }
   ],
   "source": [
    "table_part_two = table.copy\n",
    "table_part_two.filter(lambda row: row[\"Integers\"] <= 50)\n",
    "table_part_two.display()"
   ]
  },
  {
   "cell_type": "code",
   "execution_count": 11,
   "metadata": {
    "tags": []
   },
   "outputs": [
    {
     "output_type": "display_data",
     "data": {
      "text/plain": "<IPython.core.display.HTML object>",
      "text/html": "<table>\n<tr>\n<th><br></br><br></br>Index</th>\n<th><b><u>Dates</u></b><br>DataType:date</br></th>\n<th><b><u>Integers</u></b><br>DataType:int</br></th>\n<th><b><u>Strings</u></b><br>DataType:str</br></th>\n<th><b><u>Booleans</u></b><br>DataType:bool</br></th>\n<th><b><u>BooleansFalse</u></b><br>DataType:int</br></th>\n<th><b><u>BooleansTrue</u></b><br>DataType:int</br></th>\n<th><b><u>Floats</u></b><br>DataType:float</br></th>\n<th><b><u>Multiplication</u></b><br>DataType:float</br></th>\n</tr>\n<tr>\n<td>0</td>\n<td>2018-01-16</td>\n<td>74</td>\n<td>CKEX1</td>\n<td>False</td>\n<td>1</td>\n<td>0</td>\n<td>0.33892587837341814</td>\n<td>25.080514999632943</td>\n</tr>\n<tr>\n<td>1</td>\n<td>2018-01-17</td>\n<td>86</td>\n<td>IU61D</td>\n<td>True</td>\n<td>0</td>\n<td>1</td>\n<td>0.4074812193512716</td>\n<td>35.04338486420936</td>\n</tr>\n<tr>\n<td>2</td>\n<td>2018-01-18</td>\n<td>79</td>\n<td>CVZF1</td>\n<td>True</td>\n<td>0</td>\n<td>1</td>\n<td>0.4313602905675218</td>\n<td>34.07746295483422</td>\n</tr>\n<tr>\n<td>3</td>\n<td>2018-01-19</td>\n<td>None</td>\n<td>FVC0W</td>\n<td>None</td>\n<td>None</td>\n<td>None</td>\n<td>8.205783661646937</td>\n<td>None</td>\n</tr>\n<tr>\n<td>4</td>\n<td>2018-01-20</td>\n<td>66</td>\n<td>KQL5G</td>\n<td>True</td>\n<td>0</td>\n<td>1</td>\n<td>0.0037708866493089133</td>\n<td>0.24887851885438828</td>\n</tr>\n<tr>\n<td>...</td>\n<td>...</td>\n<td>...</td>\n<td>...</td>\n<td>...</td>\n<td>...</td>\n<td>...</td>\n<td>...</td>\n<td>...</td>\n</tr>\n<tr>\n<td>995</td>\n<td>2020-10-07</td>\n<td>None</td>\n<td>NVF04</td>\n<td>None</td>\n<td>None</td>\n<td>None</td>\n<td>39.680364468877016</td>\n<td>None</td>\n</tr>\n<tr>\n<td>996</td>\n<td>2020-10-08</td>\n<td>None</td>\n<td>P5Q4K</td>\n<td>None</td>\n<td>None</td>\n<td>None</td>\n<td>3.988290380840187</td>\n<td>None</td>\n</tr>\n<tr>\n<td>997</td>\n<td>2020-10-09</td>\n<td>None</td>\n<td>7Y2VA</td>\n<td>None</td>\n<td>None</td>\n<td>None</td>\n<td>23.339480536744666</td>\n<td>None</td>\n</tr>\n<tr>\n<td>998</td>\n<td>2020-10-10</td>\n<td>None</td>\n<td>197AS</td>\n<td>None</td>\n<td>None</td>\n<td>None</td>\n<td>8.228098730315327</td>\n<td>None</td>\n</tr>\n<tr>\n<td>999</td>\n<td>2020-10-11</td>\n<td>None</td>\n<td>QM218</td>\n<td>None</td>\n<td>None</td>\n<td>None</td>\n<td>21.91525368073355</td>\n<td>None</td>\n</tr>\n</table>"
     },
     "metadata": {}
    }
   ],
   "source": [
    "table_part_one.concatenate(table_part_two, [\"Dates\", \"Floats\", \"Strings\"], [\"Dates\", \"Multiplication\", \"Strings\"])\n",
    "table_part_one.sort([\"Dates\"])\n",
    "table_part_one.display()"
   ]
  },
  {
   "cell_type": "code",
   "execution_count": 12,
   "metadata": {},
   "outputs": [
    {
     "output_type": "display_data",
     "data": {
      "text/plain": "<IPython.core.display.HTML object>",
      "text/html": "<table>\n<tr>\n<th><br></br><br></br>Index</th>\n<th><b><u>Dates</u></b><br>DataType:date</br></th>\n<th><b><u>RegistredValues</u></b><br>DataType:float</br></th>\n</tr>\n<tr>\n<td>0</td>\n<td>2020-10-11</td>\n<td>29.8576</td>\n</tr>\n<tr>\n<td>1</td>\n<td>2020-10-10</td>\n<td>70.9272</td>\n</tr>\n<tr>\n<td>2</td>\n<td>2020-10-09</td>\n<td>98.9892</td>\n</tr>\n<tr>\n<td>3</td>\n<td>2020-10-08</td>\n<td>46.4079</td>\n</tr>\n<tr>\n<td>4</td>\n<td>2020-10-07</td>\n<td>22.8292</td>\n</tr>\n<tr>\n<td>...</td>\n<td>...</td>\n<td>...</td>\n</tr>\n<tr>\n<td>495</td>\n<td>2019-06-04</td>\n<td>42.9362</td>\n</tr>\n<tr>\n<td>496</td>\n<td>2019-06-03</td>\n<td>75.2397</td>\n</tr>\n<tr>\n<td>497</td>\n<td>2019-06-02</td>\n<td>91.6382</td>\n</tr>\n<tr>\n<td>498</td>\n<td>2019-06-01</td>\n<td>44.6571</td>\n</tr>\n<tr>\n<td>499</td>\n<td>2019-05-31</td>\n<td>81.2204</td>\n</tr>\n</table>"
     },
     "metadata": {}
    }
   ],
   "source": [
    "table_to_join = pb.DataTable({\n",
    "    \"Dates\": [datetime.date.today() - datetime.timedelta(days=i) for i in range(table_len//2)],\n",
    "    \"RegistredValues\": [round(random.random()*100,4) for _ in range(table_len//2)]\n",
    "})\n",
    "table_to_join.display()"
   ]
  },
  {
   "cell_type": "code",
   "execution_count": 13,
   "metadata": {},
   "outputs": [
    {
     "output_type": "display_data",
     "data": {
      "text/plain": "<IPython.core.display.HTML object>",
      "text/html": "<table>\n<tr>\n<th><br></br><br></br>Index</th>\n<th><b><u>Dates</u></b><br>DataType:date</br></th>\n<th><b><u>Integers</u></b><br>DataType:int</br></th>\n<th><b><u>Strings</u></b><br>DataType:str</br></th>\n<th><b><u>Booleans</u></b><br>DataType:bool</br></th>\n<th><b><u>BooleansFalse</u></b><br>DataType:int</br></th>\n<th><b><u>BooleansTrue</u></b><br>DataType:int</br></th>\n<th><b><u>Floats</u></b><br>DataType:float</br></th>\n<th><b><u>Multiplication</u></b><br>DataType:float</br></th>\n<th><b><u>RegistredValues</u></b><br>DataType:float</br></th>\n</tr>\n<tr>\n<td>0</td>\n<td>2020-10-11</td>\n<td>50</td>\n<td>QM218</td>\n<td>False</td>\n<td>1</td>\n<td>0</td>\n<td>0.43830507361467097</td>\n<td>21.91525368073355</td>\n<td>29.8576</td>\n</tr>\n<tr>\n<td>1</td>\n<td>2020-10-10</td>\n<td>18</td>\n<td>197AS</td>\n<td>False</td>\n<td>1</td>\n<td>0</td>\n<td>0.4571165961286293</td>\n<td>8.228098730315327</td>\n<td>70.9272</td>\n</tr>\n<tr>\n<td>2</td>\n<td>2020-10-09</td>\n<td>24</td>\n<td>7Y2VA</td>\n<td>False</td>\n<td>1</td>\n<td>0</td>\n<td>0.9724783556976944</td>\n<td>23.339480536744666</td>\n<td>98.9892</td>\n</tr>\n<tr>\n<td>3</td>\n<td>2020-10-08</td>\n<td>20</td>\n<td>P5Q4K</td>\n<td>False</td>\n<td>1</td>\n<td>0</td>\n<td>0.19941451904200935</td>\n<td>3.988290380840187</td>\n<td>46.4079</td>\n</tr>\n<tr>\n<td>4</td>\n<td>2020-10-07</td>\n<td>42</td>\n<td>NVF04</td>\n<td>True</td>\n<td>0</td>\n<td>1</td>\n<td>0.94477058259231</td>\n<td>39.680364468877016</td>\n<td>22.8292</td>\n</tr>\n<tr>\n<td>...</td>\n<td>...</td>\n<td>...</td>\n<td>...</td>\n<td>...</td>\n<td>...</td>\n<td>...</td>\n<td>...</td>\n<td>...</td>\n<td>...</td>\n</tr>\n<tr>\n<td>995</td>\n<td>2018-01-20</td>\n<td>66</td>\n<td>KQL5G</td>\n<td>True</td>\n<td>0</td>\n<td>1</td>\n<td>0.0037708866493089133</td>\n<td>0.24887851885438828</td>\n<td>None</td>\n</tr>\n<tr>\n<td>996</td>\n<td>2018-01-19</td>\n<td>24</td>\n<td>FVC0W</td>\n<td>False</td>\n<td>1</td>\n<td>0</td>\n<td>0.3419076525686223</td>\n<td>8.205783661646937</td>\n<td>None</td>\n</tr>\n<tr>\n<td>997</td>\n<td>2018-01-18</td>\n<td>79</td>\n<td>CVZF1</td>\n<td>True</td>\n<td>0</td>\n<td>1</td>\n<td>0.4313602905675218</td>\n<td>34.07746295483422</td>\n<td>None</td>\n</tr>\n<tr>\n<td>998</td>\n<td>2018-01-17</td>\n<td>86</td>\n<td>IU61D</td>\n<td>True</td>\n<td>0</td>\n<td>1</td>\n<td>0.4074812193512716</td>\n<td>35.04338486420936</td>\n<td>None</td>\n</tr>\n<tr>\n<td>999</td>\n<td>2018-01-16</td>\n<td>74</td>\n<td>CKEX1</td>\n<td>False</td>\n<td>1</td>\n<td>0</td>\n<td>0.33892587837341814</td>\n<td>25.080514999632943</td>\n<td>None</td>\n</tr>\n</table>"
     },
     "metadata": {}
    }
   ],
   "source": [
    "table.join(table_to_join, \"Dates\", \"Dates\")\n",
    "table.display()"
   ]
  },
  {
   "cell_type": "code",
   "execution_count": 14,
   "metadata": {},
   "outputs": [],
   "source": [
    "from statistics import mean, stdev\n",
    "\n",
    "mu = mean(table[\"Multiplication\"])\n",
    "sigma = stdev(table[\"Multiplication\"])\n",
    "\n",
    "table.apply(\"Multiplication\", lambda row: round((row-mu)/sigma, 4))"
   ]
  },
  {
   "cell_type": "code",
   "execution_count": 15,
   "metadata": {},
   "outputs": [
    {
     "output_type": "display_data",
     "data": {
      "text/plain": "<IPython.core.display.HTML object>",
      "text/html": "<table>\n<tr>\n<th><br></br><br></br>Index</th>\n<th><b><u>Dates</u></b><br>DataType:date</br></th>\n<th><b><u>Integers</u></b><br>DataType:int</br></th>\n<th><b><u>Strings</u></b><br>DataType:str</br></th>\n<th><b><u>Booleans</u></b><br>DataType:bool</br></th>\n<th><b><u>BooleansFalse</u></b><br>DataType:int</br></th>\n<th><b><u>BooleansTrue</u></b><br>DataType:int</br></th>\n<th><b><u>Floats</u></b><br>DataType:float</br></th>\n<th><b><u>Multiplication</u></b><br>DataType:float</br></th>\n<th><b><u>RegistredValues</u></b><br>DataType:float</br></th>\n</tr>\n<tr>\n<td>0</td>\n<td>2020-10-11</td>\n<td>50</td>\n<td>QM218</td>\n<td>False</td>\n<td>1</td>\n<td>0</td>\n<td>0.43830507361467097</td>\n<td>-0.2545</td>\n<td>29.8576</td>\n</tr>\n<tr>\n<td>1</td>\n<td>2020-10-10</td>\n<td>18</td>\n<td>197AS</td>\n<td>False</td>\n<td>1</td>\n<td>0</td>\n<td>0.4571165961286293</td>\n<td>-0.876</td>\n<td>70.9272</td>\n</tr>\n<tr>\n<td>2</td>\n<td>2020-10-09</td>\n<td>24</td>\n<td>7Y2VA</td>\n<td>False</td>\n<td>1</td>\n<td>0</td>\n<td>0.9724783556976944</td>\n<td>-0.1898</td>\n<td>98.9892</td>\n</tr>\n<tr>\n<td>3</td>\n<td>2020-10-08</td>\n<td>20</td>\n<td>P5Q4K</td>\n<td>False</td>\n<td>1</td>\n<td>0</td>\n<td>0.19941451904200935</td>\n<td>-1.0685</td>\n<td>46.4079</td>\n</tr>\n<tr>\n<td>4</td>\n<td>2020-10-07</td>\n<td>42</td>\n<td>NVF04</td>\n<td>True</td>\n<td>0</td>\n<td>1</td>\n<td>0.94477058259231</td>\n<td>0.5522</td>\n<td>22.8292</td>\n</tr>\n<tr>\n<td>...</td>\n<td>...</td>\n<td>...</td>\n<td>...</td>\n<td>...</td>\n<td>...</td>\n<td>...</td>\n<td>...</td>\n<td>...</td>\n<td>...</td>\n</tr>\n<tr>\n<td>995</td>\n<td>2018-01-20</td>\n<td>66</td>\n<td>KQL5G</td>\n<td>True</td>\n<td>0</td>\n<td>1</td>\n<td>0.0037708866493089133</td>\n<td>-1.2383</td>\n<td>None</td>\n</tr>\n<tr>\n<td>996</td>\n<td>2018-01-19</td>\n<td>24</td>\n<td>FVC0W</td>\n<td>False</td>\n<td>1</td>\n<td>0</td>\n<td>0.3419076525686223</td>\n<td>-0.877</td>\n<td>None</td>\n</tr>\n<tr>\n<td>997</td>\n<td>2018-01-18</td>\n<td>79</td>\n<td>CVZF1</td>\n<td>True</td>\n<td>0</td>\n<td>1</td>\n<td>0.4313602905675218</td>\n<td>0.2977</td>\n<td>None</td>\n</tr>\n<tr>\n<td>998</td>\n<td>2018-01-17</td>\n<td>86</td>\n<td>IU61D</td>\n<td>True</td>\n<td>0</td>\n<td>1</td>\n<td>0.4074812193512716</td>\n<td>0.3416</td>\n<td>None</td>\n</tr>\n<tr>\n<td>999</td>\n<td>2018-01-16</td>\n<td>74</td>\n<td>CKEX1</td>\n<td>False</td>\n<td>1</td>\n<td>0</td>\n<td>0.33892587837341814</td>\n<td>-0.1108</td>\n<td>None</td>\n</tr>\n</table>"
     },
     "metadata": {}
    }
   ],
   "source": [
    "table.display()"
   ]
  },
  {
   "cell_type": "code",
   "execution_count": null,
   "metadata": {},
   "outputs": [],
   "source": []
  }
 ]
}