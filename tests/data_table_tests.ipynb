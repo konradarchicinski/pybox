{
 "metadata": {
  "language_info": {
   "codemirror_mode": {
    "name": "ipython",
    "version": 3
   },
   "file_extension": ".py",
   "mimetype": "text/x-python",
   "name": "python",
   "nbconvert_exporter": "python",
   "pygments_lexer": "ipython3",
   "version": "3.8.5-final"
  },
  "orig_nbformat": 2,
  "kernelspec": {
   "name": "Python 3.8.5 64-bit ('PyBox': conda)",
   "display_name": "Python 3.8.5 64-bit ('PyBox': conda)",
   "metadata": {
    "interpreter": {
     "hash": "c1a5da4ca35d3cb3932b3c104e9f8344b77033ff7166c565cdd66713a6c2079e"
    }
   }
  }
 },
 "nbformat": 4,
 "nbformat_minor": 2,
 "cells": [
  {
   "cell_type": "code",
   "execution_count": 1,
   "metadata": {},
   "outputs": [],
   "source": [
    "import datetime\n",
    "import string\n",
    "import random\n",
    "import os\n",
    "os.chdir(\"C:\\\\PyBox\\\\\")\n",
    "\n",
    "import pybox as pb"
   ]
  },
  {
   "cell_type": "code",
   "execution_count": 2,
   "metadata": {},
   "outputs": [
    {
     "output_type": "display_data",
     "data": {
      "text/plain": "<IPython.core.display.HTML object>",
      "text/html": "<table>\n<tr>\n<th><br></br><br></br>Index</th>\n<th><b><u>Integers</u></b><br>DataType:int</br></th>\n<th><b><u>Strings</u></b><br>DataType:str</br></th>\n<th><b><u>Booleans</u></b><br>DataType:bool</br></th>\n</tr>\n<tr>\n<td>0</td>\n<td>59</td>\n<td>H62AM</td>\n<td>False</td>\n</tr>\n<tr>\n<td>1</td>\n<td>59</td>\n<td>VLC6B</td>\n<td>True</td>\n</tr>\n<tr>\n<td>2</td>\n<td>49</td>\n<td>7GLUE</td>\n<td>False</td>\n</tr>\n<tr>\n<td>3</td>\n<td>89</td>\n<td>YVDW3</td>\n<td>False</td>\n</tr>\n<tr>\n<td>4</td>\n<td>35</td>\n<td>IW7ML</td>\n<td>True</td>\n</tr>\n<tr>\n<td>...</td>\n<td>...</td>\n<td>...</td>\n<td>...</td>\n</tr>\n<tr>\n<td>995</td>\n<td>13</td>\n<td>LGW21</td>\n<td>True</td>\n</tr>\n<tr>\n<td>996</td>\n<td>38</td>\n<td>62912</td>\n<td>False</td>\n</tr>\n<tr>\n<td>997</td>\n<td>48</td>\n<td>TPT0C</td>\n<td>True</td>\n</tr>\n<tr>\n<td>998</td>\n<td>15</td>\n<td>IPV4O</td>\n<td>True</td>\n</tr>\n<tr>\n<td>999</td>\n<td>12</td>\n<td>VKMWU</td>\n<td>True</td>\n</tr>\n</table>"
     },
     "metadata": {}
    }
   ],
   "source": [
    "table_len = 1000\n",
    "\n",
    "table = pb.DataTable({\n",
    "    \"Integers\": [random.randint(10,99) for _ in range(table_len)],\n",
    "    \"Strings\": [''.join(random.choices(string.ascii_uppercase + string.digits, k=5)) for _ in range(table_len)],\n",
    "    \"Booleans\": [bool(random.getrandbits(1)) for _ in range(table_len)]\n",
    "})\n",
    "table.display()"
   ]
  },
  {
   "cell_type": "code",
   "execution_count": 3,
   "metadata": {
    "tags": []
   },
   "outputs": [
    {
     "output_type": "display_data",
     "data": {
      "text/plain": "<IPython.core.display.HTML object>",
      "text/html": "<table>\n<tr>\n<th><br></br><br></br>Index</th>\n<th><b><u>Dates</u></b><br>DataType:date</br></th>\n<th><b><u>Integers</u></b><br>DataType:int</br></th>\n<th><b><u>Strings</u></b><br>DataType:str</br></th>\n<th><b><u>Booleans</u></b><br>DataType:bool</br></th>\n<th><b><u>Floats</u></b><br>DataType:float</br></th>\n<th><b><u>Multiplication</u></b><br>DataType:float</br></th>\n</tr>\n<tr>\n<td>0</td>\n<td>2020-10-09</td>\n<td>59</td>\n<td>H62AM</td>\n<td>False</td>\n<td>0.5772163764667484</td>\n<td>34.055766211538156</td>\n</tr>\n<tr>\n<td>1</td>\n<td>2020-10-08</td>\n<td>59</td>\n<td>VLC6B</td>\n<td>True</td>\n<td>0.7166891054369261</td>\n<td>42.28465722077864</td>\n</tr>\n<tr>\n<td>2</td>\n<td>2020-10-07</td>\n<td>49</td>\n<td>7GLUE</td>\n<td>False</td>\n<td>0.2265750351132927</td>\n<td>11.102176720551341</td>\n</tr>\n<tr>\n<td>3</td>\n<td>2020-10-06</td>\n<td>89</td>\n<td>YVDW3</td>\n<td>False</td>\n<td>0.8207560755185836</td>\n<td>73.04729072115394</td>\n</tr>\n<tr>\n<td>4</td>\n<td>2020-10-05</td>\n<td>35</td>\n<td>IW7ML</td>\n<td>True</td>\n<td>0.2706076103978162</td>\n<td>9.471266363923569</td>\n</tr>\n<tr>\n<td>...</td>\n<td>...</td>\n<td>...</td>\n<td>...</td>\n<td>...</td>\n<td>...</td>\n<td>...</td>\n</tr>\n<tr>\n<td>995</td>\n<td>2018-01-18</td>\n<td>13</td>\n<td>LGW21</td>\n<td>True</td>\n<td>0.060822386909160864</td>\n<td>0.7906910298190912</td>\n</tr>\n<tr>\n<td>996</td>\n<td>2018-01-17</td>\n<td>38</td>\n<td>62912</td>\n<td>False</td>\n<td>0.4811285208763173</td>\n<td>18.28288379330006</td>\n</tr>\n<tr>\n<td>997</td>\n<td>2018-01-16</td>\n<td>48</td>\n<td>TPT0C</td>\n<td>True</td>\n<td>0.22120536311222916</td>\n<td>10.617857429387</td>\n</tr>\n<tr>\n<td>998</td>\n<td>2018-01-15</td>\n<td>15</td>\n<td>IPV4O</td>\n<td>True</td>\n<td>0.7062502084006508</td>\n<td>10.593753126009762</td>\n</tr>\n<tr>\n<td>999</td>\n<td>2018-01-14</td>\n<td>12</td>\n<td>VKMWU</td>\n<td>True</td>\n<td>0.20580025778715982</td>\n<td>2.469603093445918</td>\n</tr>\n</table>"
     },
     "metadata": {}
    }
   ],
   "source": [
    "table.insert_column(\"Floats\", [random.random() for _ in range(table_len)])\n",
    "\n",
    "for row in table:\n",
    "    row[\"Multiplication\"] = row[\"Integers\"] * row[\"Floats\"]\n",
    "\n",
    "table.insert_column(\n",
    "    \"Dates\",\n",
    "    [datetime.date.today() - datetime.timedelta(days=i) for i in range(table_len)],\n",
    "    column_index=0)\n",
    "\n",
    "table.display()"
   ]
  },
  {
   "cell_type": "code",
   "execution_count": 4,
   "metadata": {},
   "outputs": [
    {
     "output_type": "execute_result",
     "data": {
      "text/plain": [
       "[['Dates', datetime.date],\n",
       " ['Integers', int],\n",
       " ['Strings', str],\n",
       " ['Booleans', bool],\n",
       " ['Floats', float],\n",
       " ['Multiplication', float]]"
      ]
     },
     "metadata": {},
     "execution_count": 4
    }
   ],
   "source": [
    "table._data_map"
   ]
  },
  {
   "cell_type": "code",
   "execution_count": 5,
   "metadata": {},
   "outputs": [
    {
     "output_type": "display_data",
     "data": {
      "text/plain": "<IPython.core.display.HTML object>",
      "text/html": "<table>\n<tr>\n<th><br></br><br></br>Index</th>\n<th><b><u>Dates</u></b><br>DataType:date</br></th>\n<th><b><u>Integers</u></b><br>DataType:int</br></th>\n<th><b><u>Strings</u></b><br>DataType:str</br></th>\n<th><b><u>Booleans</u></b><br>DataType:bool</br></th>\n<th><b><u>BooleansFalse</u></b><br>DataType:int</br></th>\n<th><b><u>BooleansTrue</u></b><br>DataType:int</br></th>\n<th><b><u>Floats</u></b><br>DataType:float</br></th>\n<th><b><u>Multiplication</u></b><br>DataType:float</br></th>\n</tr>\n<tr>\n<td>0</td>\n<td>2020-10-09</td>\n<td>59</td>\n<td>H62AM</td>\n<td>False</td>\n<td>1</td>\n<td>0</td>\n<td>0.5772163764667484</td>\n<td>34.055766211538156</td>\n</tr>\n<tr>\n<td>1</td>\n<td>2020-10-08</td>\n<td>59</td>\n<td>VLC6B</td>\n<td>True</td>\n<td>0</td>\n<td>1</td>\n<td>0.7166891054369261</td>\n<td>42.28465722077864</td>\n</tr>\n<tr>\n<td>2</td>\n<td>2020-10-07</td>\n<td>49</td>\n<td>7GLUE</td>\n<td>False</td>\n<td>1</td>\n<td>0</td>\n<td>0.2265750351132927</td>\n<td>11.102176720551341</td>\n</tr>\n<tr>\n<td>3</td>\n<td>2020-10-06</td>\n<td>89</td>\n<td>YVDW3</td>\n<td>False</td>\n<td>1</td>\n<td>0</td>\n<td>0.8207560755185836</td>\n<td>73.04729072115394</td>\n</tr>\n<tr>\n<td>4</td>\n<td>2020-10-05</td>\n<td>35</td>\n<td>IW7ML</td>\n<td>True</td>\n<td>0</td>\n<td>1</td>\n<td>0.2706076103978162</td>\n<td>9.471266363923569</td>\n</tr>\n<tr>\n<td>...</td>\n<td>...</td>\n<td>...</td>\n<td>...</td>\n<td>...</td>\n<td>...</td>\n<td>...</td>\n<td>...</td>\n<td>...</td>\n</tr>\n<tr>\n<td>995</td>\n<td>2018-01-18</td>\n<td>13</td>\n<td>LGW21</td>\n<td>True</td>\n<td>0</td>\n<td>1</td>\n<td>0.060822386909160864</td>\n<td>0.7906910298190912</td>\n</tr>\n<tr>\n<td>996</td>\n<td>2018-01-17</td>\n<td>38</td>\n<td>62912</td>\n<td>False</td>\n<td>1</td>\n<td>0</td>\n<td>0.4811285208763173</td>\n<td>18.28288379330006</td>\n</tr>\n<tr>\n<td>997</td>\n<td>2018-01-16</td>\n<td>48</td>\n<td>TPT0C</td>\n<td>True</td>\n<td>0</td>\n<td>1</td>\n<td>0.22120536311222916</td>\n<td>10.617857429387</td>\n</tr>\n<tr>\n<td>998</td>\n<td>2018-01-15</td>\n<td>15</td>\n<td>IPV4O</td>\n<td>True</td>\n<td>0</td>\n<td>1</td>\n<td>0.7062502084006508</td>\n<td>10.593753126009762</td>\n</tr>\n<tr>\n<td>999</td>\n<td>2018-01-14</td>\n<td>12</td>\n<td>VKMWU</td>\n<td>True</td>\n<td>0</td>\n<td>1</td>\n<td>0.20580025778715982</td>\n<td>2.469603093445918</td>\n</tr>\n</table>"
     },
     "metadata": {}
    }
   ],
   "source": [
    "table.create_dummies(\"Booleans\", False)\n",
    "table.display()"
   ]
  },
  {
   "cell_type": "code",
   "execution_count": 6,
   "metadata": {
    "tags": []
   },
   "outputs": [
    {
     "output_type": "stream",
     "name": "stdout",
     "text": [
      "DataTable(shape=8x1000,bytesize=300401)\nDates: date\nIntegers: int\nStrings: str\nBooleans: bool\nBooleansFalse: int\nBooleansTrue: int\nFloats: float\nMultiplication: float\n"
     ]
    }
   ],
   "source": [
    "print(table)"
   ]
  },
  {
   "cell_type": "code",
   "execution_count": 7,
   "metadata": {},
   "outputs": [],
   "source": [
    "import pybox.tools.data.data_flow as atddf\n",
    "\n",
    "atddf.table_to_parquet(table, \"TestDataTable\", pb.APP_PATH + \"\\\\tests\\\\\")"
   ]
  },
  {
   "cell_type": "code",
   "execution_count": 8,
   "metadata": {},
   "outputs": [
    {
     "output_type": "display_data",
     "data": {
      "text/plain": "<IPython.core.display.HTML object>",
      "text/html": "<table>\n<tr>\n<th><br></br><br></br>Index</th>\n<th><b><u>Dates</u></b><br>DataType:date</br></th>\n<th><b><u>Integers</u></b><br>DataType:int</br></th>\n<th><b><u>Strings</u></b><br>DataType:str</br></th>\n<th><b><u>Booleans</u></b><br>DataType:bool</br></th>\n<th><b><u>BooleansFalse</u></b><br>DataType:int</br></th>\n<th><b><u>BooleansTrue</u></b><br>DataType:int</br></th>\n<th><b><u>Floats</u></b><br>DataType:float</br></th>\n<th><b><u>Multiplication</u></b><br>DataType:float</br></th>\n</tr>\n<tr>\n<td>0</td>\n<td>2020-10-09</td>\n<td>59</td>\n<td>H62AM</td>\n<td>False</td>\n<td>1</td>\n<td>0</td>\n<td>0.5772163764667484</td>\n<td>34.055766211538156</td>\n</tr>\n<tr>\n<td>1</td>\n<td>2020-10-08</td>\n<td>59</td>\n<td>VLC6B</td>\n<td>True</td>\n<td>0</td>\n<td>1</td>\n<td>0.7166891054369261</td>\n<td>42.28465722077864</td>\n</tr>\n<tr>\n<td>2</td>\n<td>2020-10-07</td>\n<td>49</td>\n<td>7GLUE</td>\n<td>False</td>\n<td>1</td>\n<td>0</td>\n<td>0.2265750351132927</td>\n<td>11.102176720551341</td>\n</tr>\n<tr>\n<td>3</td>\n<td>2020-10-06</td>\n<td>89</td>\n<td>YVDW3</td>\n<td>False</td>\n<td>1</td>\n<td>0</td>\n<td>0.8207560755185836</td>\n<td>73.04729072115394</td>\n</tr>\n<tr>\n<td>4</td>\n<td>2020-10-05</td>\n<td>35</td>\n<td>IW7ML</td>\n<td>True</td>\n<td>0</td>\n<td>1</td>\n<td>0.2706076103978162</td>\n<td>9.471266363923569</td>\n</tr>\n<tr>\n<td>...</td>\n<td>...</td>\n<td>...</td>\n<td>...</td>\n<td>...</td>\n<td>...</td>\n<td>...</td>\n<td>...</td>\n<td>...</td>\n</tr>\n<tr>\n<td>995</td>\n<td>2018-01-18</td>\n<td>13</td>\n<td>LGW21</td>\n<td>True</td>\n<td>0</td>\n<td>1</td>\n<td>0.060822386909160864</td>\n<td>0.7906910298190912</td>\n</tr>\n<tr>\n<td>996</td>\n<td>2018-01-17</td>\n<td>38</td>\n<td>62912</td>\n<td>False</td>\n<td>1</td>\n<td>0</td>\n<td>0.4811285208763173</td>\n<td>18.28288379330006</td>\n</tr>\n<tr>\n<td>997</td>\n<td>2018-01-16</td>\n<td>48</td>\n<td>TPT0C</td>\n<td>True</td>\n<td>0</td>\n<td>1</td>\n<td>0.22120536311222916</td>\n<td>10.617857429387</td>\n</tr>\n<tr>\n<td>998</td>\n<td>2018-01-15</td>\n<td>15</td>\n<td>IPV4O</td>\n<td>True</td>\n<td>0</td>\n<td>1</td>\n<td>0.7062502084006508</td>\n<td>10.593753126009762</td>\n</tr>\n<tr>\n<td>999</td>\n<td>2018-01-14</td>\n<td>12</td>\n<td>VKMWU</td>\n<td>True</td>\n<td>0</td>\n<td>1</td>\n<td>0.20580025778715982</td>\n<td>2.469603093445918</td>\n</tr>\n</table>"
     },
     "metadata": {}
    }
   ],
   "source": [
    "table = atddf.table_from_parquet(\"TestDataTable\", pb.APP_PATH + \"\\\\tests\\\\\")\n",
    "table.display()"
   ]
  },
  {
   "cell_type": "code",
   "execution_count": 9,
   "metadata": {},
   "outputs": [
    {
     "output_type": "display_data",
     "data": {
      "text/plain": "<IPython.core.display.HTML object>",
      "text/html": "<table>\n<tr>\n<th><br></br><br></br>Index</th>\n<th><b><u>Dates</u></b><br>DataType:date</br></th>\n<th><b><u>Integers</u></b><br>DataType:int</br></th>\n<th><b><u>Strings</u></b><br>DataType:str</br></th>\n<th><b><u>Booleans</u></b><br>DataType:bool</br></th>\n<th><b><u>BooleansFalse</u></b><br>DataType:int</br></th>\n<th><b><u>BooleansTrue</u></b><br>DataType:int</br></th>\n<th><b><u>Floats</u></b><br>DataType:float</br></th>\n<th><b><u>Multiplication</u></b><br>DataType:float</br></th>\n</tr>\n<tr>\n<td>0</td>\n<td>2020-10-09</td>\n<td>59</td>\n<td>H62AM</td>\n<td>False</td>\n<td>1</td>\n<td>0</td>\n<td>0.5772163764667484</td>\n<td>34.055766211538156</td>\n</tr>\n<tr>\n<td>1</td>\n<td>2020-10-08</td>\n<td>59</td>\n<td>VLC6B</td>\n<td>True</td>\n<td>0</td>\n<td>1</td>\n<td>0.7166891054369261</td>\n<td>42.28465722077864</td>\n</tr>\n<tr>\n<td>2</td>\n<td>2020-10-06</td>\n<td>89</td>\n<td>YVDW3</td>\n<td>False</td>\n<td>1</td>\n<td>0</td>\n<td>0.8207560755185836</td>\n<td>73.04729072115394</td>\n</tr>\n<tr>\n<td>3</td>\n<td>2020-10-04</td>\n<td>65</td>\n<td>LA0BI</td>\n<td>False</td>\n<td>1</td>\n<td>0</td>\n<td>0.753199558767768</td>\n<td>48.95797131990492</td>\n</tr>\n<tr>\n<td>4</td>\n<td>2020-10-01</td>\n<td>77</td>\n<td>KIPPQ</td>\n<td>True</td>\n<td>0</td>\n<td>1</td>\n<td>0.7734877299438905</td>\n<td>59.55855520567957</td>\n</tr>\n<tr>\n<td>...</td>\n<td>...</td>\n<td>...</td>\n<td>...</td>\n<td>...</td>\n<td>...</td>\n<td>...</td>\n<td>...</td>\n<td>...</td>\n</tr>\n<tr>\n<td>507</td>\n<td>2018-01-29</td>\n<td>67</td>\n<td>HVH2W</td>\n<td>False</td>\n<td>1</td>\n<td>0</td>\n<td>0.4694024222726495</td>\n<td>31.449962292267518</td>\n</tr>\n<tr>\n<td>508</td>\n<td>2018-01-24</td>\n<td>92</td>\n<td>B6S02</td>\n<td>True</td>\n<td>0</td>\n<td>1</td>\n<td>0.9492600114198949</td>\n<td>87.33192105063033</td>\n</tr>\n<tr>\n<td>509</td>\n<td>2018-01-23</td>\n<td>98</td>\n<td>BF05R</td>\n<td>True</td>\n<td>0</td>\n<td>1</td>\n<td>0.7057929436229315</td>\n<td>69.16770847504729</td>\n</tr>\n<tr>\n<td>510</td>\n<td>2018-01-22</td>\n<td>76</td>\n<td>UIY2T</td>\n<td>True</td>\n<td>0</td>\n<td>1</td>\n<td>0.01108868533749019</td>\n<td>0.8427400856492544</td>\n</tr>\n<tr>\n<td>511</td>\n<td>2018-01-21</td>\n<td>80</td>\n<td>UHEDS</td>\n<td>False</td>\n<td>1</td>\n<td>0</td>\n<td>0.737965055294288</td>\n<td>59.037204423543045</td>\n</tr>\n</table>"
     },
     "metadata": {}
    }
   ],
   "source": [
    "table_part_one = table.copy\n",
    "table_part_one.filter(lambda row: row[\"Integers\"] > 50)\n",
    "table_part_one.display()"
   ]
  },
  {
   "cell_type": "code",
   "execution_count": 10,
   "metadata": {
    "tags": []
   },
   "outputs": [
    {
     "output_type": "display_data",
     "data": {
      "text/plain": "<IPython.core.display.HTML object>",
      "text/html": "<table>\n<tr>\n<th><br></br><br></br>Index</th>\n<th><b><u>Dates</u></b><br>DataType:date</br></th>\n<th><b><u>Integers</u></b><br>DataType:int</br></th>\n<th><b><u>Strings</u></b><br>DataType:str</br></th>\n<th><b><u>Booleans</u></b><br>DataType:bool</br></th>\n<th><b><u>BooleansFalse</u></b><br>DataType:int</br></th>\n<th><b><u>BooleansTrue</u></b><br>DataType:int</br></th>\n<th><b><u>Floats</u></b><br>DataType:float</br></th>\n<th><b><u>Multiplication</u></b><br>DataType:float</br></th>\n</tr>\n<tr>\n<td>0</td>\n<td>2020-10-07</td>\n<td>49</td>\n<td>7GLUE</td>\n<td>False</td>\n<td>1</td>\n<td>0</td>\n<td>0.2265750351132927</td>\n<td>11.102176720551341</td>\n</tr>\n<tr>\n<td>1</td>\n<td>2020-10-05</td>\n<td>35</td>\n<td>IW7ML</td>\n<td>True</td>\n<td>0</td>\n<td>1</td>\n<td>0.2706076103978162</td>\n<td>9.471266363923569</td>\n</tr>\n<tr>\n<td>2</td>\n<td>2020-10-03</td>\n<td>42</td>\n<td>FESHZ</td>\n<td>False</td>\n<td>1</td>\n<td>0</td>\n<td>0.3225792453395252</td>\n<td>13.548328304260059</td>\n</tr>\n<tr>\n<td>3</td>\n<td>2020-10-02</td>\n<td>48</td>\n<td>FUL1P</td>\n<td>True</td>\n<td>0</td>\n<td>1</td>\n<td>0.2663558545356811</td>\n<td>12.785081017712693</td>\n</tr>\n<tr>\n<td>4</td>\n<td>2020-09-30</td>\n<td>45</td>\n<td>BT073</td>\n<td>False</td>\n<td>1</td>\n<td>0</td>\n<td>0.1038089995833601</td>\n<td>4.671404981251205</td>\n</tr>\n<tr>\n<td>...</td>\n<td>...</td>\n<td>...</td>\n<td>...</td>\n<td>...</td>\n<td>...</td>\n<td>...</td>\n<td>...</td>\n<td>...</td>\n</tr>\n<tr>\n<td>483</td>\n<td>2018-01-18</td>\n<td>13</td>\n<td>LGW21</td>\n<td>True</td>\n<td>0</td>\n<td>1</td>\n<td>0.060822386909160864</td>\n<td>0.7906910298190912</td>\n</tr>\n<tr>\n<td>484</td>\n<td>2018-01-17</td>\n<td>38</td>\n<td>62912</td>\n<td>False</td>\n<td>1</td>\n<td>0</td>\n<td>0.4811285208763173</td>\n<td>18.28288379330006</td>\n</tr>\n<tr>\n<td>485</td>\n<td>2018-01-16</td>\n<td>48</td>\n<td>TPT0C</td>\n<td>True</td>\n<td>0</td>\n<td>1</td>\n<td>0.22120536311222916</td>\n<td>10.617857429387</td>\n</tr>\n<tr>\n<td>486</td>\n<td>2018-01-15</td>\n<td>15</td>\n<td>IPV4O</td>\n<td>True</td>\n<td>0</td>\n<td>1</td>\n<td>0.7062502084006508</td>\n<td>10.593753126009762</td>\n</tr>\n<tr>\n<td>487</td>\n<td>2018-01-14</td>\n<td>12</td>\n<td>VKMWU</td>\n<td>True</td>\n<td>0</td>\n<td>1</td>\n<td>0.20580025778715982</td>\n<td>2.469603093445918</td>\n</tr>\n</table>"
     },
     "metadata": {}
    }
   ],
   "source": [
    "table_part_two = table.copy\n",
    "table_part_two.filter(lambda row: row[\"Integers\"] <= 50)\n",
    "table_part_two.display()"
   ]
  },
  {
   "cell_type": "code",
   "execution_count": 11,
   "metadata": {
    "tags": []
   },
   "outputs": [
    {
     "output_type": "display_data",
     "data": {
      "text/plain": "<IPython.core.display.HTML object>",
      "text/html": "<table>\n<tr>\n<th><br></br><br></br>Index</th>\n<th><b><u>Dates</u></b><br>DataType:date</br></th>\n<th><b><u>Integers</u></b><br>DataType:int</br></th>\n<th><b><u>Strings</u></b><br>DataType:str</br></th>\n<th><b><u>Booleans</u></b><br>DataType:bool</br></th>\n<th><b><u>BooleansFalse</u></b><br>DataType:int</br></th>\n<th><b><u>BooleansTrue</u></b><br>DataType:int</br></th>\n<th><b><u>Floats</u></b><br>DataType:float</br></th>\n<th><b><u>Multiplication</u></b><br>DataType:float</br></th>\n</tr>\n<tr>\n<td>0</td>\n<td>2018-01-14</td>\n<td>None</td>\n<td>VKMWU</td>\n<td>None</td>\n<td>None</td>\n<td>None</td>\n<td>2.469603093445918</td>\n<td>None</td>\n</tr>\n<tr>\n<td>1</td>\n<td>2018-01-15</td>\n<td>None</td>\n<td>IPV4O</td>\n<td>None</td>\n<td>None</td>\n<td>None</td>\n<td>10.593753126009762</td>\n<td>None</td>\n</tr>\n<tr>\n<td>2</td>\n<td>2018-01-16</td>\n<td>None</td>\n<td>TPT0C</td>\n<td>None</td>\n<td>None</td>\n<td>None</td>\n<td>10.617857429387</td>\n<td>None</td>\n</tr>\n<tr>\n<td>3</td>\n<td>2018-01-17</td>\n<td>None</td>\n<td>62912</td>\n<td>None</td>\n<td>None</td>\n<td>None</td>\n<td>18.28288379330006</td>\n<td>None</td>\n</tr>\n<tr>\n<td>4</td>\n<td>2018-01-18</td>\n<td>None</td>\n<td>LGW21</td>\n<td>None</td>\n<td>None</td>\n<td>None</td>\n<td>0.7906910298190912</td>\n<td>None</td>\n</tr>\n<tr>\n<td>...</td>\n<td>...</td>\n<td>...</td>\n<td>...</td>\n<td>...</td>\n<td>...</td>\n<td>...</td>\n<td>...</td>\n<td>...</td>\n</tr>\n<tr>\n<td>995</td>\n<td>2020-10-05</td>\n<td>None</td>\n<td>IW7ML</td>\n<td>None</td>\n<td>None</td>\n<td>None</td>\n<td>9.471266363923569</td>\n<td>None</td>\n</tr>\n<tr>\n<td>996</td>\n<td>2020-10-06</td>\n<td>89</td>\n<td>YVDW3</td>\n<td>False</td>\n<td>1</td>\n<td>0</td>\n<td>0.8207560755185836</td>\n<td>73.04729072115394</td>\n</tr>\n<tr>\n<td>997</td>\n<td>2020-10-07</td>\n<td>None</td>\n<td>7GLUE</td>\n<td>None</td>\n<td>None</td>\n<td>None</td>\n<td>11.102176720551341</td>\n<td>None</td>\n</tr>\n<tr>\n<td>998</td>\n<td>2020-10-08</td>\n<td>59</td>\n<td>VLC6B</td>\n<td>True</td>\n<td>0</td>\n<td>1</td>\n<td>0.7166891054369261</td>\n<td>42.28465722077864</td>\n</tr>\n<tr>\n<td>999</td>\n<td>2020-10-09</td>\n<td>59</td>\n<td>H62AM</td>\n<td>False</td>\n<td>1</td>\n<td>0</td>\n<td>0.5772163764667484</td>\n<td>34.055766211538156</td>\n</tr>\n</table>"
     },
     "metadata": {}
    }
   ],
   "source": [
    "table_part_one.concatenate(table_part_two, [\"Dates\", \"Floats\", \"Strings\"], [\"Dates\", \"Multiplication\", \"Strings\"])\n",
    "table_part_one.sort([\"Dates\"])\n",
    "table_part_one.display()"
   ]
  },
  {
   "cell_type": "code",
   "execution_count": 12,
   "metadata": {},
   "outputs": [
    {
     "output_type": "display_data",
     "data": {
      "text/plain": "<IPython.core.display.HTML object>",
      "text/html": "<table>\n<tr>\n<th><br></br><br></br>Index</th>\n<th><b><u>Dates</u></b><br>DataType:date</br></th>\n<th><b><u>RegistredValues</u></b><br>DataType:float</br></th>\n</tr>\n<tr>\n<td>0</td>\n<td>2020-10-09</td>\n<td>88.2426</td>\n</tr>\n<tr>\n<td>1</td>\n<td>2020-10-08</td>\n<td>78.1944</td>\n</tr>\n<tr>\n<td>2</td>\n<td>2020-10-07</td>\n<td>52.8319</td>\n</tr>\n<tr>\n<td>3</td>\n<td>2020-10-06</td>\n<td>93.9348</td>\n</tr>\n<tr>\n<td>4</td>\n<td>2020-10-05</td>\n<td>94.9705</td>\n</tr>\n<tr>\n<td>...</td>\n<td>...</td>\n<td>...</td>\n</tr>\n<tr>\n<td>495</td>\n<td>2019-06-02</td>\n<td>37.9181</td>\n</tr>\n<tr>\n<td>496</td>\n<td>2019-06-01</td>\n<td>28.2511</td>\n</tr>\n<tr>\n<td>497</td>\n<td>2019-05-31</td>\n<td>88.9665</td>\n</tr>\n<tr>\n<td>498</td>\n<td>2019-05-30</td>\n<td>23.1709</td>\n</tr>\n<tr>\n<td>499</td>\n<td>2019-05-29</td>\n<td>98.7714</td>\n</tr>\n</table>"
     },
     "metadata": {}
    }
   ],
   "source": [
    "table_to_join = pb.DataTable({\n",
    "    \"Dates\": [datetime.date.today() - datetime.timedelta(days=i) for i in range(table_len//2)],\n",
    "    \"RegistredValues\": [round(random.random()*100,4) for _ in range(table_len//2)]\n",
    "})\n",
    "table_to_join.display()"
   ]
  },
  {
   "cell_type": "code",
   "execution_count": 13,
   "metadata": {},
   "outputs": [
    {
     "output_type": "display_data",
     "data": {
      "text/plain": "<IPython.core.display.HTML object>",
      "text/html": "<table>\n<tr>\n<th><br></br><br></br>Index</th>\n<th><b><u>Dates</u></b><br>DataType:date</br></th>\n<th><b><u>Integers</u></b><br>DataType:int</br></th>\n<th><b><u>Strings</u></b><br>DataType:str</br></th>\n<th><b><u>Booleans</u></b><br>DataType:bool</br></th>\n<th><b><u>BooleansFalse</u></b><br>DataType:int</br></th>\n<th><b><u>BooleansTrue</u></b><br>DataType:int</br></th>\n<th><b><u>Floats</u></b><br>DataType:float</br></th>\n<th><b><u>Multiplication</u></b><br>DataType:float</br></th>\n<th><b><u>RegistredValues</u></b><br>DataType:float</br></th>\n</tr>\n<tr>\n<td>0</td>\n<td>2020-10-09</td>\n<td>59</td>\n<td>H62AM</td>\n<td>False</td>\n<td>1</td>\n<td>0</td>\n<td>0.5772163764667484</td>\n<td>34.055766211538156</td>\n<td>88.2426</td>\n</tr>\n<tr>\n<td>1</td>\n<td>2020-10-08</td>\n<td>59</td>\n<td>VLC6B</td>\n<td>True</td>\n<td>0</td>\n<td>1</td>\n<td>0.7166891054369261</td>\n<td>42.28465722077864</td>\n<td>78.1944</td>\n</tr>\n<tr>\n<td>2</td>\n<td>2020-10-07</td>\n<td>49</td>\n<td>7GLUE</td>\n<td>False</td>\n<td>1</td>\n<td>0</td>\n<td>0.2265750351132927</td>\n<td>11.102176720551341</td>\n<td>52.8319</td>\n</tr>\n<tr>\n<td>3</td>\n<td>2020-10-06</td>\n<td>89</td>\n<td>YVDW3</td>\n<td>False</td>\n<td>1</td>\n<td>0</td>\n<td>0.8207560755185836</td>\n<td>73.04729072115394</td>\n<td>93.9348</td>\n</tr>\n<tr>\n<td>4</td>\n<td>2020-10-05</td>\n<td>35</td>\n<td>IW7ML</td>\n<td>True</td>\n<td>0</td>\n<td>1</td>\n<td>0.2706076103978162</td>\n<td>9.471266363923569</td>\n<td>94.9705</td>\n</tr>\n<tr>\n<td>...</td>\n<td>...</td>\n<td>...</td>\n<td>...</td>\n<td>...</td>\n<td>...</td>\n<td>...</td>\n<td>...</td>\n<td>...</td>\n<td>...</td>\n</tr>\n<tr>\n<td>995</td>\n<td>2018-01-18</td>\n<td>13</td>\n<td>LGW21</td>\n<td>True</td>\n<td>0</td>\n<td>1</td>\n<td>0.060822386909160864</td>\n<td>0.7906910298190912</td>\n<td>None</td>\n</tr>\n<tr>\n<td>996</td>\n<td>2018-01-17</td>\n<td>38</td>\n<td>62912</td>\n<td>False</td>\n<td>1</td>\n<td>0</td>\n<td>0.4811285208763173</td>\n<td>18.28288379330006</td>\n<td>None</td>\n</tr>\n<tr>\n<td>997</td>\n<td>2018-01-16</td>\n<td>48</td>\n<td>TPT0C</td>\n<td>True</td>\n<td>0</td>\n<td>1</td>\n<td>0.22120536311222916</td>\n<td>10.617857429387</td>\n<td>None</td>\n</tr>\n<tr>\n<td>998</td>\n<td>2018-01-15</td>\n<td>15</td>\n<td>IPV4O</td>\n<td>True</td>\n<td>0</td>\n<td>1</td>\n<td>0.7062502084006508</td>\n<td>10.593753126009762</td>\n<td>None</td>\n</tr>\n<tr>\n<td>999</td>\n<td>2018-01-14</td>\n<td>12</td>\n<td>VKMWU</td>\n<td>True</td>\n<td>0</td>\n<td>1</td>\n<td>0.20580025778715982</td>\n<td>2.469603093445918</td>\n<td>None</td>\n</tr>\n</table>"
     },
     "metadata": {}
    }
   ],
   "source": [
    "table.join(table_to_join, \"Dates\", \"Dates\")\n",
    "table.display()"
   ]
  },
  {
   "cell_type": "code",
   "execution_count": 14,
   "metadata": {},
   "outputs": [],
   "source": [
    "from statistics import mean, stdev\n",
    "\n",
    "mu = mean(table[\"Multiplication\"])\n",
    "sigma = stdev(table[\"Multiplication\"])\n",
    "\n",
    "table.apply(\"Multiplication\", lambda row: round((row-mu)/sigma, 4))"
   ]
  },
  {
   "cell_type": "code",
   "execution_count": 15,
   "metadata": {},
   "outputs": [
    {
     "output_type": "display_data",
     "data": {
      "text/plain": "<IPython.core.display.HTML object>",
      "text/html": "<table>\n<tr>\n<th><br></br><br></br>Index</th>\n<th><b><u>Dates</u></b><br>DataType:date</br></th>\n<th><b><u>Integers</u></b><br>DataType:int</br></th>\n<th><b><u>Strings</u></b><br>DataType:str</br></th>\n<th><b><u>Booleans</u></b><br>DataType:bool</br></th>\n<th><b><u>BooleansFalse</u></b><br>DataType:int</br></th>\n<th><b><u>BooleansTrue</u></b><br>DataType:int</br></th>\n<th><b><u>Floats</u></b><br>DataType:float</br></th>\n<th><b><u>Multiplication</u></b><br>DataType:float</br></th>\n<th><b><u>RegistredValues</u></b><br>DataType:float</br></th>\n</tr>\n<tr>\n<td>0</td>\n<td>2020-10-09</td>\n<td>59</td>\n<td>H62AM</td>\n<td>False</td>\n<td>1</td>\n<td>0</td>\n<td>0.5772163764667484</td>\n<td>0.2683</td>\n<td>88.2426</td>\n</tr>\n<tr>\n<td>1</td>\n<td>2020-10-08</td>\n<td>59</td>\n<td>VLC6B</td>\n<td>True</td>\n<td>0</td>\n<td>1</td>\n<td>0.7166891054369261</td>\n<td>0.6373</td>\n<td>78.1944</td>\n</tr>\n<tr>\n<td>2</td>\n<td>2020-10-07</td>\n<td>49</td>\n<td>7GLUE</td>\n<td>False</td>\n<td>1</td>\n<td>0</td>\n<td>0.2265750351132927</td>\n<td>-0.7611</td>\n<td>52.8319</td>\n</tr>\n<tr>\n<td>3</td>\n<td>2020-10-06</td>\n<td>89</td>\n<td>YVDW3</td>\n<td>False</td>\n<td>1</td>\n<td>0</td>\n<td>0.8207560755185836</td>\n<td>2.0169</td>\n<td>93.9348</td>\n</tr>\n<tr>\n<td>4</td>\n<td>2020-10-05</td>\n<td>35</td>\n<td>IW7ML</td>\n<td>True</td>\n<td>0</td>\n<td>1</td>\n<td>0.2706076103978162</td>\n<td>-0.8343</td>\n<td>94.9705</td>\n</tr>\n<tr>\n<td>...</td>\n<td>...</td>\n<td>...</td>\n<td>...</td>\n<td>...</td>\n<td>...</td>\n<td>...</td>\n<td>...</td>\n<td>...</td>\n<td>...</td>\n</tr>\n<tr>\n<td>995</td>\n<td>2018-01-18</td>\n<td>13</td>\n<td>LGW21</td>\n<td>True</td>\n<td>0</td>\n<td>1</td>\n<td>0.060822386909160864</td>\n<td>-1.2235</td>\n<td>None</td>\n</tr>\n<tr>\n<td>996</td>\n<td>2018-01-17</td>\n<td>38</td>\n<td>62912</td>\n<td>False</td>\n<td>1</td>\n<td>0</td>\n<td>0.4811285208763173</td>\n<td>-0.4391</td>\n<td>None</td>\n</tr>\n<tr>\n<td>997</td>\n<td>2018-01-16</td>\n<td>48</td>\n<td>TPT0C</td>\n<td>True</td>\n<td>0</td>\n<td>1</td>\n<td>0.22120536311222916</td>\n<td>-0.7828</td>\n<td>None</td>\n</tr>\n<tr>\n<td>998</td>\n<td>2018-01-15</td>\n<td>15</td>\n<td>IPV4O</td>\n<td>True</td>\n<td>0</td>\n<td>1</td>\n<td>0.7062502084006508</td>\n<td>-0.7839</td>\n<td>None</td>\n</tr>\n<tr>\n<td>999</td>\n<td>2018-01-14</td>\n<td>12</td>\n<td>VKMWU</td>\n<td>True</td>\n<td>0</td>\n<td>1</td>\n<td>0.20580025778715982</td>\n<td>-1.1483</td>\n<td>None</td>\n</tr>\n</table>"
     },
     "metadata": {}
    }
   ],
   "source": [
    "table.display()"
   ]
  },
  {
   "cell_type": "code",
   "execution_count": null,
   "metadata": {},
   "outputs": [],
   "source": []
  }
 ]
}